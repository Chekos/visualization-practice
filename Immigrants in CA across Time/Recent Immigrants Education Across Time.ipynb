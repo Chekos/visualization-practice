{
 "cells": [
  {
   "cell_type": "code",
   "execution_count": null,
   "metadata": {},
   "outputs": [],
   "source": []
  },
  {
   "cell_type": "code",
   "execution_count": 1,
   "metadata": {},
   "outputs": [],
   "source": [
    "import pandas as pd\n",
    "import numpy as np\n",
    "import matplotlib.pyplot as plt\n",
    "import altair as alt\n",
    "from ipywidgets import interact, interactive, fixed, interact_manual\n",
    "import ipywidgets as widgets\n",
    "%matplotlib inline"
   ]
  },
  {
   "cell_type": "code",
   "execution_count": 2,
   "metadata": {},
   "outputs": [],
   "source": [
    "df = pd.read_stata('usa_00021.dta')"
   ]
  },
  {
   "cell_type": "code",
   "execution_count": 3,
   "metadata": {},
   "outputs": [],
   "source": [
    "df['agg educd 0'] = np.where(df['educd'] >= '4 years of college', 'BA or More', np.nan)\n",
    "df['agg educd 1'] = np.where(((df['educd'] >= 'high school graduate or ged') & (df['educd'] <= 'ged or alternative credential')), 'HS', df['agg educd 0'])\n",
    "df['agg educd 2'] = np.where(df['educd'] < 'high school graduate or ged', 'Less than HS', df['agg educd 1'])\n",
    "df['agg educd 3'] = np.where(((df['educd'] > 'ged or alternative credential') & (df['educd'] < '4 years of college')), 'Some College', df['agg educd 2']) \n",
    "\n",
    "df['agg educd'] = df['agg educd 3'].copy()\n",
    "\n",
    "df.drop(columns = ['agg educd 0', 'agg educd 1', 'agg educd 2', 'agg educd 3'], inplace = True)"
   ]
  },
  {
   "cell_type": "code",
   "execution_count": 7,
   "metadata": {},
   "outputs": [],
   "source": [
    "immig_educ = df.groupby(['year', 'bpld', 'agg educd',])['perwt'].sum().to_frame()\n",
    "immig = df.groupby(['year', 'bpld',])['perwt'].sum().to_frame()\n",
    "immig_educ.to_csv('immigrants education.csv')\n",
    "immig.to_csv('immigrants no education.csv')"
   ]
  },
  {
   "cell_type": "code",
   "execution_count": 5,
   "metadata": {},
   "outputs": [],
   "source": [
    "immig_educ = df.groupby(['year', 'bpld', 'agg educd',])['perwt'].sum().to_frame()\n",
    "data = immig_educ.reset_index()\n",
    "def make_altair_chart(country):\n",
    "    brush = alt.selection(type='interval', encodings=['x'])\n",
    "\n",
    "    upper1 = alt.Chart(data[data['bpld'] == country]).mark_line().encode(\n",
    "        x = alt.X('year:T', timeUnit='year', scale={'domain': brush.ref()}),\n",
    "        y = 'perwt:Q',\n",
    "        color = 'agg educd',\n",
    "        order = alt.Order('agg educd:O'),\n",
    "    ).properties(\n",
    "        title = f'{country}'.capitalize(),\n",
    "        width = 800,\n",
    "        height = 400,\n",
    "    )\n",
    "\n",
    "    lower1 = upper1.properties(\n",
    "        selection=brush,\n",
    "        height=60\n",
    "    )\n",
    "    chart = alt.vconcat(upper1, lower1)\n",
    "    return chart"
   ]
  },
  {
   "cell_type": "code",
   "execution_count": 6,
   "metadata": {},
   "outputs": [
    {
     "data": {
      "application/vnd.jupyter.widget-view+json": {
       "model_id": "4b0cdf950ded4ac09a7aa18fba77e6d8",
       "version_major": 2,
       "version_minor": 0
      },
      "text/plain": [
       "interactive(children=(Dropdown(description='country', options=('vietnam', 'venezuela', 'mexico', 'australia', …"
      ]
     },
     "metadata": {},
     "output_type": "display_data"
    },
    {
     "data": {
      "text/plain": [
       "<function __main__.make_altair_chart>"
      ]
     },
     "execution_count": 6,
     "metadata": {},
     "output_type": "execute_result"
    }
   ],
   "source": [
    "interact(make_altair_chart, country = df['bpld'].unique())"
   ]
  },
  {
   "cell_type": "code",
   "execution_count": 23,
   "metadata": {},
   "outputs": [
    {
     "data": {
      "application/vnd.vegalite.v2+json": {
       "$schema": "https://vega.github.io/schema/vega-lite/v2.json",
       "config": {
        "view": {
         "height": 300,
         "width": 400
        }
       },
       "vconcat": [
        {
         "data": {
          "values": [
           {
            "agg educd": "BA or More",
            "bpld": "mexico",
            "perwt": 4540,
            "year": "1980"
           },
           {
            "agg educd": "BA or More",
            "bpld": "china",
            "perwt": 5020,
            "year": "1980"
           },
           {
            "agg educd": "BA or More",
            "bpld": "philippines",
            "perwt": 24200,
            "year": "1980"
           },
           {
            "agg educd": "BA or More",
            "bpld": "vietnam",
            "perwt": 4040,
            "year": "1980"
           },
           {
            "agg educd": "BA or More",
            "bpld": "india",
            "perwt": 4620,
            "year": "1980"
           },
           {
            "agg educd": "BA or More",
            "bpld": "mexico",
            "perwt": 16448,
            "year": "1990"
           },
           {
            "agg educd": "BA or More",
            "bpld": "china",
            "perwt": 10068,
            "year": "1990"
           },
           {
            "agg educd": "BA or More",
            "bpld": "philippines",
            "perwt": 37707,
            "year": "1990"
           },
           {
            "agg educd": "BA or More",
            "bpld": "vietnam",
            "perwt": 2331,
            "year": "1990"
           },
           {
            "agg educd": "BA or More",
            "bpld": "india",
            "perwt": 10540,
            "year": "1990"
           },
           {
            "agg educd": "BA or More",
            "bpld": "mexico",
            "perwt": 20391,
            "year": "2000"
           },
           {
            "agg educd": "BA or More",
            "bpld": "china",
            "perwt": 19902,
            "year": "2000"
           },
           {
            "agg educd": "BA or More",
            "bpld": "philippines",
            "perwt": 25254,
            "year": "2000"
           },
           {
            "agg educd": "BA or More",
            "bpld": "vietnam",
            "perwt": 4960,
            "year": "2000"
           },
           {
            "agg educd": "BA or More",
            "bpld": "india",
            "perwt": 48772,
            "year": "2000"
           },
           {
            "agg educd": "BA or More",
            "bpld": "mexico",
            "perwt": 22221,
            "year": "2001"
           },
           {
            "agg educd": "BA or More",
            "bpld": "china",
            "perwt": 28258,
            "year": "2001"
           },
           {
            "agg educd": "BA or More",
            "bpld": "philippines",
            "perwt": 34878,
            "year": "2001"
           },
           {
            "agg educd": "BA or More",
            "bpld": "vietnam",
            "perwt": 3477,
            "year": "2001"
           },
           {
            "agg educd": "BA or More",
            "bpld": "india",
            "perwt": 72573,
            "year": "2001"
           },
           {
            "agg educd": "BA or More",
            "bpld": "mexico",
            "perwt": 26752,
            "year": "2002"
           },
           {
            "agg educd": "BA or More",
            "bpld": "china",
            "perwt": 30729,
            "year": "2002"
           },
           {
            "agg educd": "BA or More",
            "bpld": "philippines",
            "perwt": 37105,
            "year": "2002"
           },
           {
            "agg educd": "BA or More",
            "bpld": "vietnam",
            "perwt": 5278,
            "year": "2002"
           },
           {
            "agg educd": "BA or More",
            "bpld": "india",
            "perwt": 60822,
            "year": "2002"
           },
           {
            "agg educd": "BA or More",
            "bpld": "mexico",
            "perwt": 23132,
            "year": "2003"
           },
           {
            "agg educd": "BA or More",
            "bpld": "china",
            "perwt": 22316,
            "year": "2003"
           },
           {
            "agg educd": "BA or More",
            "bpld": "philippines",
            "perwt": 39879,
            "year": "2003"
           },
           {
            "agg educd": "BA or More",
            "bpld": "vietnam",
            "perwt": 4636,
            "year": "2003"
           },
           {
            "agg educd": "BA or More",
            "bpld": "india",
            "perwt": 60858,
            "year": "2003"
           },
           {
            "agg educd": "BA or More",
            "bpld": "mexico",
            "perwt": 27778,
            "year": "2004"
           },
           {
            "agg educd": "BA or More",
            "bpld": "china",
            "perwt": 23559,
            "year": "2004"
           },
           {
            "agg educd": "BA or More",
            "bpld": "philippines",
            "perwt": 41889,
            "year": "2004"
           },
           {
            "agg educd": "BA or More",
            "bpld": "vietnam",
            "perwt": 4843,
            "year": "2004"
           },
           {
            "agg educd": "BA or More",
            "bpld": "india",
            "perwt": 48650,
            "year": "2004"
           },
           {
            "agg educd": "BA or More",
            "bpld": "mexico",
            "perwt": 23873,
            "year": "2005"
           },
           {
            "agg educd": "BA or More",
            "bpld": "china",
            "perwt": 20127,
            "year": "2005"
           },
           {
            "agg educd": "BA or More",
            "bpld": "philippines",
            "perwt": 48383,
            "year": "2005"
           },
           {
            "agg educd": "BA or More",
            "bpld": "vietnam",
            "perwt": 2819,
            "year": "2005"
           },
           {
            "agg educd": "BA or More",
            "bpld": "india",
            "perwt": 45412,
            "year": "2005"
           },
           {
            "agg educd": "BA or More",
            "bpld": "mexico",
            "perwt": 24996,
            "year": "2006"
           },
           {
            "agg educd": "BA or More",
            "bpld": "china",
            "perwt": 19553,
            "year": "2006"
           },
           {
            "agg educd": "BA or More",
            "bpld": "philippines",
            "perwt": 49889,
            "year": "2006"
           },
           {
            "agg educd": "BA or More",
            "bpld": "vietnam",
            "perwt": 3372,
            "year": "2006"
           },
           {
            "agg educd": "BA or More",
            "bpld": "india",
            "perwt": 43249,
            "year": "2006"
           },
           {
            "agg educd": "BA or More",
            "bpld": "mexico",
            "perwt": 21177,
            "year": "2007"
           },
           {
            "agg educd": "BA or More",
            "bpld": "china",
            "perwt": 16031,
            "year": "2007"
           },
           {
            "agg educd": "BA or More",
            "bpld": "philippines",
            "perwt": 51927,
            "year": "2007"
           },
           {
            "agg educd": "BA or More",
            "bpld": "vietnam",
            "perwt": 3293,
            "year": "2007"
           },
           {
            "agg educd": "BA or More",
            "bpld": "india",
            "perwt": 47295,
            "year": "2007"
           },
           {
            "agg educd": "BA or More",
            "bpld": "mexico",
            "perwt": 20492,
            "year": "2008"
           },
           {
            "agg educd": "BA or More",
            "bpld": "china",
            "perwt": 17619,
            "year": "2008"
           },
           {
            "agg educd": "BA or More",
            "bpld": "philippines",
            "perwt": 48475,
            "year": "2008"
           },
           {
            "agg educd": "BA or More",
            "bpld": "vietnam",
            "perwt": 3223,
            "year": "2008"
           },
           {
            "agg educd": "BA or More",
            "bpld": "india",
            "perwt": 53151,
            "year": "2008"
           },
           {
            "agg educd": "BA or More",
            "bpld": "mexico",
            "perwt": 17520,
            "year": "2009"
           },
           {
            "agg educd": "BA or More",
            "bpld": "china",
            "perwt": 19776,
            "year": "2009"
           },
           {
            "agg educd": "BA or More",
            "bpld": "philippines",
            "perwt": 41801,
            "year": "2009"
           },
           {
            "agg educd": "BA or More",
            "bpld": "vietnam",
            "perwt": 2497,
            "year": "2009"
           },
           {
            "agg educd": "BA or More",
            "bpld": "india",
            "perwt": 54349,
            "year": "2009"
           },
           {
            "agg educd": "BA or More",
            "bpld": "mexico",
            "perwt": 21986,
            "year": "2010"
           },
           {
            "agg educd": "BA or More",
            "bpld": "china",
            "perwt": 25700,
            "year": "2010"
           },
           {
            "agg educd": "BA or More",
            "bpld": "philippines",
            "perwt": 41701,
            "year": "2010"
           },
           {
            "agg educd": "BA or More",
            "bpld": "vietnam",
            "perwt": 3999,
            "year": "2010"
           },
           {
            "agg educd": "BA or More",
            "bpld": "india",
            "perwt": 54398,
            "year": "2010"
           },
           {
            "agg educd": "BA or More",
            "bpld": "mexico",
            "perwt": 15533,
            "year": "2011"
           },
           {
            "agg educd": "BA or More",
            "bpld": "china",
            "perwt": 28308,
            "year": "2011"
           },
           {
            "agg educd": "BA or More",
            "bpld": "philippines",
            "perwt": 35471,
            "year": "2011"
           },
           {
            "agg educd": "BA or More",
            "bpld": "vietnam",
            "perwt": 3278,
            "year": "2011"
           },
           {
            "agg educd": "BA or More",
            "bpld": "india",
            "perwt": 61354,
            "year": "2011"
           },
           {
            "agg educd": "BA or More",
            "bpld": "mexico",
            "perwt": 13145,
            "year": "2012"
           },
           {
            "agg educd": "BA or More",
            "bpld": "china",
            "perwt": 28366,
            "year": "2012"
           },
           {
            "agg educd": "BA or More",
            "bpld": "philippines",
            "perwt": 38964,
            "year": "2012"
           },
           {
            "agg educd": "BA or More",
            "bpld": "vietnam",
            "perwt": 5621,
            "year": "2012"
           },
           {
            "agg educd": "BA or More",
            "bpld": "india",
            "perwt": 65131,
            "year": "2012"
           },
           {
            "agg educd": "BA or More",
            "bpld": "mexico",
            "perwt": 13126,
            "year": "2013"
           },
           {
            "agg educd": "BA or More",
            "bpld": "china",
            "perwt": 35423,
            "year": "2013"
           },
           {
            "agg educd": "BA or More",
            "bpld": "philippines",
            "perwt": 28218,
            "year": "2013"
           },
           {
            "agg educd": "BA or More",
            "bpld": "vietnam",
            "perwt": 5806,
            "year": "2013"
           },
           {
            "agg educd": "BA or More",
            "bpld": "india",
            "perwt": 61452,
            "year": "2013"
           },
           {
            "agg educd": "BA or More",
            "bpld": "mexico",
            "perwt": 12239,
            "year": "2014"
           },
           {
            "agg educd": "BA or More",
            "bpld": "china",
            "perwt": 46857,
            "year": "2014"
           },
           {
            "agg educd": "BA or More",
            "bpld": "philippines",
            "perwt": 30911,
            "year": "2014"
           },
           {
            "agg educd": "BA or More",
            "bpld": "vietnam",
            "perwt": 4318,
            "year": "2014"
           },
           {
            "agg educd": "BA or More",
            "bpld": "india",
            "perwt": 81807,
            "year": "2014"
           },
           {
            "agg educd": "BA or More",
            "bpld": "mexico",
            "perwt": 15373,
            "year": "2015"
           },
           {
            "agg educd": "BA or More",
            "bpld": "china",
            "perwt": 55237,
            "year": "2015"
           },
           {
            "agg educd": "BA or More",
            "bpld": "philippines",
            "perwt": 32869,
            "year": "2015"
           },
           {
            "agg educd": "BA or More",
            "bpld": "vietnam",
            "perwt": 5271,
            "year": "2015"
           },
           {
            "agg educd": "BA or More",
            "bpld": "india",
            "perwt": 92779,
            "year": "2015"
           },
           {
            "agg educd": "BA or More",
            "bpld": "mexico",
            "perwt": 16786,
            "year": "2016"
           },
           {
            "agg educd": "BA or More",
            "bpld": "china",
            "perwt": 68932,
            "year": "2016"
           },
           {
            "agg educd": "BA or More",
            "bpld": "philippines",
            "perwt": 25528,
            "year": "2016"
           },
           {
            "agg educd": "BA or More",
            "bpld": "vietnam",
            "perwt": 7670,
            "year": "2016"
           },
           {
            "agg educd": "BA or More",
            "bpld": "india",
            "perwt": 93589,
            "year": "2016"
           }
          ]
         },
         "encoding": {
          "color": {
           "field": "bpld",
           "type": "nominal"
          },
          "order": {
           "field": "bpld",
           "type": "ordinal"
          },
          "x": {
           "axis": {
            "title": "Year"
           },
           "field": "year",
           "scale": {
            "domain": {
             "selection": "selector021"
            }
           },
           "timeUnit": "year",
           "type": "temporal"
          },
          "y": {
           "axis": {
            "title": "Number of Adult (18-65) Immigrants arriving within the last 5 years"
           },
           "field": "perwt",
           "type": "quantitative"
          }
         },
         "height": 400,
         "mark": "line",
         "width": 800
        },
        {
         "data": {
          "values": [
           {
            "agg educd": "BA or More",
            "bpld": "mexico",
            "perwt": 4540,
            "year": "1980"
           },
           {
            "agg educd": "BA or More",
            "bpld": "china",
            "perwt": 5020,
            "year": "1980"
           },
           {
            "agg educd": "BA or More",
            "bpld": "philippines",
            "perwt": 24200,
            "year": "1980"
           },
           {
            "agg educd": "BA or More",
            "bpld": "vietnam",
            "perwt": 4040,
            "year": "1980"
           },
           {
            "agg educd": "BA or More",
            "bpld": "india",
            "perwt": 4620,
            "year": "1980"
           },
           {
            "agg educd": "BA or More",
            "bpld": "mexico",
            "perwt": 16448,
            "year": "1990"
           },
           {
            "agg educd": "BA or More",
            "bpld": "china",
            "perwt": 10068,
            "year": "1990"
           },
           {
            "agg educd": "BA or More",
            "bpld": "philippines",
            "perwt": 37707,
            "year": "1990"
           },
           {
            "agg educd": "BA or More",
            "bpld": "vietnam",
            "perwt": 2331,
            "year": "1990"
           },
           {
            "agg educd": "BA or More",
            "bpld": "india",
            "perwt": 10540,
            "year": "1990"
           },
           {
            "agg educd": "BA or More",
            "bpld": "mexico",
            "perwt": 20391,
            "year": "2000"
           },
           {
            "agg educd": "BA or More",
            "bpld": "china",
            "perwt": 19902,
            "year": "2000"
           },
           {
            "agg educd": "BA or More",
            "bpld": "philippines",
            "perwt": 25254,
            "year": "2000"
           },
           {
            "agg educd": "BA or More",
            "bpld": "vietnam",
            "perwt": 4960,
            "year": "2000"
           },
           {
            "agg educd": "BA or More",
            "bpld": "india",
            "perwt": 48772,
            "year": "2000"
           },
           {
            "agg educd": "BA or More",
            "bpld": "mexico",
            "perwt": 22221,
            "year": "2001"
           },
           {
            "agg educd": "BA or More",
            "bpld": "china",
            "perwt": 28258,
            "year": "2001"
           },
           {
            "agg educd": "BA or More",
            "bpld": "philippines",
            "perwt": 34878,
            "year": "2001"
           },
           {
            "agg educd": "BA or More",
            "bpld": "vietnam",
            "perwt": 3477,
            "year": "2001"
           },
           {
            "agg educd": "BA or More",
            "bpld": "india",
            "perwt": 72573,
            "year": "2001"
           },
           {
            "agg educd": "BA or More",
            "bpld": "mexico",
            "perwt": 26752,
            "year": "2002"
           },
           {
            "agg educd": "BA or More",
            "bpld": "china",
            "perwt": 30729,
            "year": "2002"
           },
           {
            "agg educd": "BA or More",
            "bpld": "philippines",
            "perwt": 37105,
            "year": "2002"
           },
           {
            "agg educd": "BA or More",
            "bpld": "vietnam",
            "perwt": 5278,
            "year": "2002"
           },
           {
            "agg educd": "BA or More",
            "bpld": "india",
            "perwt": 60822,
            "year": "2002"
           },
           {
            "agg educd": "BA or More",
            "bpld": "mexico",
            "perwt": 23132,
            "year": "2003"
           },
           {
            "agg educd": "BA or More",
            "bpld": "china",
            "perwt": 22316,
            "year": "2003"
           },
           {
            "agg educd": "BA or More",
            "bpld": "philippines",
            "perwt": 39879,
            "year": "2003"
           },
           {
            "agg educd": "BA or More",
            "bpld": "vietnam",
            "perwt": 4636,
            "year": "2003"
           },
           {
            "agg educd": "BA or More",
            "bpld": "india",
            "perwt": 60858,
            "year": "2003"
           },
           {
            "agg educd": "BA or More",
            "bpld": "mexico",
            "perwt": 27778,
            "year": "2004"
           },
           {
            "agg educd": "BA or More",
            "bpld": "china",
            "perwt": 23559,
            "year": "2004"
           },
           {
            "agg educd": "BA or More",
            "bpld": "philippines",
            "perwt": 41889,
            "year": "2004"
           },
           {
            "agg educd": "BA or More",
            "bpld": "vietnam",
            "perwt": 4843,
            "year": "2004"
           },
           {
            "agg educd": "BA or More",
            "bpld": "india",
            "perwt": 48650,
            "year": "2004"
           },
           {
            "agg educd": "BA or More",
            "bpld": "mexico",
            "perwt": 23873,
            "year": "2005"
           },
           {
            "agg educd": "BA or More",
            "bpld": "china",
            "perwt": 20127,
            "year": "2005"
           },
           {
            "agg educd": "BA or More",
            "bpld": "philippines",
            "perwt": 48383,
            "year": "2005"
           },
           {
            "agg educd": "BA or More",
            "bpld": "vietnam",
            "perwt": 2819,
            "year": "2005"
           },
           {
            "agg educd": "BA or More",
            "bpld": "india",
            "perwt": 45412,
            "year": "2005"
           },
           {
            "agg educd": "BA or More",
            "bpld": "mexico",
            "perwt": 24996,
            "year": "2006"
           },
           {
            "agg educd": "BA or More",
            "bpld": "china",
            "perwt": 19553,
            "year": "2006"
           },
           {
            "agg educd": "BA or More",
            "bpld": "philippines",
            "perwt": 49889,
            "year": "2006"
           },
           {
            "agg educd": "BA or More",
            "bpld": "vietnam",
            "perwt": 3372,
            "year": "2006"
           },
           {
            "agg educd": "BA or More",
            "bpld": "india",
            "perwt": 43249,
            "year": "2006"
           },
           {
            "agg educd": "BA or More",
            "bpld": "mexico",
            "perwt": 21177,
            "year": "2007"
           },
           {
            "agg educd": "BA or More",
            "bpld": "china",
            "perwt": 16031,
            "year": "2007"
           },
           {
            "agg educd": "BA or More",
            "bpld": "philippines",
            "perwt": 51927,
            "year": "2007"
           },
           {
            "agg educd": "BA or More",
            "bpld": "vietnam",
            "perwt": 3293,
            "year": "2007"
           },
           {
            "agg educd": "BA or More",
            "bpld": "india",
            "perwt": 47295,
            "year": "2007"
           },
           {
            "agg educd": "BA or More",
            "bpld": "mexico",
            "perwt": 20492,
            "year": "2008"
           },
           {
            "agg educd": "BA or More",
            "bpld": "china",
            "perwt": 17619,
            "year": "2008"
           },
           {
            "agg educd": "BA or More",
            "bpld": "philippines",
            "perwt": 48475,
            "year": "2008"
           },
           {
            "agg educd": "BA or More",
            "bpld": "vietnam",
            "perwt": 3223,
            "year": "2008"
           },
           {
            "agg educd": "BA or More",
            "bpld": "india",
            "perwt": 53151,
            "year": "2008"
           },
           {
            "agg educd": "BA or More",
            "bpld": "mexico",
            "perwt": 17520,
            "year": "2009"
           },
           {
            "agg educd": "BA or More",
            "bpld": "china",
            "perwt": 19776,
            "year": "2009"
           },
           {
            "agg educd": "BA or More",
            "bpld": "philippines",
            "perwt": 41801,
            "year": "2009"
           },
           {
            "agg educd": "BA or More",
            "bpld": "vietnam",
            "perwt": 2497,
            "year": "2009"
           },
           {
            "agg educd": "BA or More",
            "bpld": "india",
            "perwt": 54349,
            "year": "2009"
           },
           {
            "agg educd": "BA or More",
            "bpld": "mexico",
            "perwt": 21986,
            "year": "2010"
           },
           {
            "agg educd": "BA or More",
            "bpld": "china",
            "perwt": 25700,
            "year": "2010"
           },
           {
            "agg educd": "BA or More",
            "bpld": "philippines",
            "perwt": 41701,
            "year": "2010"
           },
           {
            "agg educd": "BA or More",
            "bpld": "vietnam",
            "perwt": 3999,
            "year": "2010"
           },
           {
            "agg educd": "BA or More",
            "bpld": "india",
            "perwt": 54398,
            "year": "2010"
           },
           {
            "agg educd": "BA or More",
            "bpld": "mexico",
            "perwt": 15533,
            "year": "2011"
           },
           {
            "agg educd": "BA or More",
            "bpld": "china",
            "perwt": 28308,
            "year": "2011"
           },
           {
            "agg educd": "BA or More",
            "bpld": "philippines",
            "perwt": 35471,
            "year": "2011"
           },
           {
            "agg educd": "BA or More",
            "bpld": "vietnam",
            "perwt": 3278,
            "year": "2011"
           },
           {
            "agg educd": "BA or More",
            "bpld": "india",
            "perwt": 61354,
            "year": "2011"
           },
           {
            "agg educd": "BA or More",
            "bpld": "mexico",
            "perwt": 13145,
            "year": "2012"
           },
           {
            "agg educd": "BA or More",
            "bpld": "china",
            "perwt": 28366,
            "year": "2012"
           },
           {
            "agg educd": "BA or More",
            "bpld": "philippines",
            "perwt": 38964,
            "year": "2012"
           },
           {
            "agg educd": "BA or More",
            "bpld": "vietnam",
            "perwt": 5621,
            "year": "2012"
           },
           {
            "agg educd": "BA or More",
            "bpld": "india",
            "perwt": 65131,
            "year": "2012"
           },
           {
            "agg educd": "BA or More",
            "bpld": "mexico",
            "perwt": 13126,
            "year": "2013"
           },
           {
            "agg educd": "BA or More",
            "bpld": "china",
            "perwt": 35423,
            "year": "2013"
           },
           {
            "agg educd": "BA or More",
            "bpld": "philippines",
            "perwt": 28218,
            "year": "2013"
           },
           {
            "agg educd": "BA or More",
            "bpld": "vietnam",
            "perwt": 5806,
            "year": "2013"
           },
           {
            "agg educd": "BA or More",
            "bpld": "india",
            "perwt": 61452,
            "year": "2013"
           },
           {
            "agg educd": "BA or More",
            "bpld": "mexico",
            "perwt": 12239,
            "year": "2014"
           },
           {
            "agg educd": "BA or More",
            "bpld": "china",
            "perwt": 46857,
            "year": "2014"
           },
           {
            "agg educd": "BA or More",
            "bpld": "philippines",
            "perwt": 30911,
            "year": "2014"
           },
           {
            "agg educd": "BA or More",
            "bpld": "vietnam",
            "perwt": 4318,
            "year": "2014"
           },
           {
            "agg educd": "BA or More",
            "bpld": "india",
            "perwt": 81807,
            "year": "2014"
           },
           {
            "agg educd": "BA or More",
            "bpld": "mexico",
            "perwt": 15373,
            "year": "2015"
           },
           {
            "agg educd": "BA or More",
            "bpld": "china",
            "perwt": 55237,
            "year": "2015"
           },
           {
            "agg educd": "BA or More",
            "bpld": "philippines",
            "perwt": 32869,
            "year": "2015"
           },
           {
            "agg educd": "BA or More",
            "bpld": "vietnam",
            "perwt": 5271,
            "year": "2015"
           },
           {
            "agg educd": "BA or More",
            "bpld": "india",
            "perwt": 92779,
            "year": "2015"
           },
           {
            "agg educd": "BA or More",
            "bpld": "mexico",
            "perwt": 16786,
            "year": "2016"
           },
           {
            "agg educd": "BA or More",
            "bpld": "china",
            "perwt": 68932,
            "year": "2016"
           },
           {
            "agg educd": "BA or More",
            "bpld": "philippines",
            "perwt": 25528,
            "year": "2016"
           },
           {
            "agg educd": "BA or More",
            "bpld": "vietnam",
            "perwt": 7670,
            "year": "2016"
           },
           {
            "agg educd": "BA or More",
            "bpld": "india",
            "perwt": 93589,
            "year": "2016"
           }
          ]
         },
         "encoding": {
          "color": {
           "field": "bpld",
           "type": "nominal"
          },
          "order": {
           "field": "bpld",
           "type": "ordinal"
          },
          "x": {
           "axis": {
            "title": "Year"
           },
           "field": "year",
           "scale": {
            "domain": {
             "selection": "selector021"
            }
           },
           "timeUnit": "year",
           "type": "temporal"
          },
          "y": {
           "axis": {
            "title": "Number of Adult (18-65) Immigrants arriving within the last 5 years"
           },
           "field": "perwt",
           "type": "quantitative"
          }
         },
         "height": 60,
         "mark": "line",
         "selection": {
          "selector021": {
           "encodings": [
            "x"
           ],
           "mark": {
            "fill": "#333",
            "fillOpacity": 0.125,
            "stroke": "white"
           },
           "on": "[mousedown, window:mouseup] > window:mousemove!",
           "resolve": "global",
           "translate": "[mousedown, window:mouseup] > window:mousemove!",
           "type": "interval",
           "zoom": "wheel!"
          }
         },
         "width": 800
        }
       ]
      },
      "text/plain": [
       "<VegaLite 2 object>"
      ]
     },
     "execution_count": 23,
     "metadata": {},
     "output_type": "execute_result"
    }
   ],
   "source": [
    "immig_educ = df.groupby(['year', 'bpld', 'agg educd',])['perwt'].sum().to_frame()\n",
    "data = immig_educ.reset_index()\n",
    "data = data[data['agg educd'] == 'BA or More']\n",
    "data = data[(data['bpld'] == 'mexico') | (data['bpld'] == 'vietnam') | (data['bpld'] == 'india') | (data['bpld'] == 'china') | (data['bpld'] == 'philippines')]\n",
    "\n",
    "brush = alt.selection(type='interval', encodings=['x'])\n",
    "\n",
    "upper1 = alt.Chart(data).mark_line().encode(\n",
    "    x = alt.X('year:T', timeUnit='year', scale={'domain': brush.ref()}, axis = alt.Axis(title = 'Year')),\n",
    "    y = alt.Y('perwt:Q', axis = alt.Axis(title = 'Number of Adult (18-65) Immigrants arriving within the last 5 years')),\n",
    "    color = 'bpld',\n",
    "    order = alt.Order('bpld:O'),\n",
    ").properties(\n",
    "    #title = f'{country}'.capitalize(),\n",
    "    width = 800,\n",
    "    height = 400,\n",
    ")\n",
    "\n",
    "lower1 = upper1.properties(\n",
    "    selection=brush,\n",
    "    height=60\n",
    ")\n",
    "chart = alt.vconcat(upper1, lower1)\n",
    "chart"
   ]
  },
  {
   "cell_type": "code",
   "execution_count": 38,
   "metadata": {},
   "outputs": [
    {
     "data": {
      "text/html": [
       "<div>\n",
       "<style scoped>\n",
       "    .dataframe tbody tr th:only-of-type {\n",
       "        vertical-align: middle;\n",
       "    }\n",
       "\n",
       "    .dataframe tbody tr th {\n",
       "        vertical-align: top;\n",
       "    }\n",
       "\n",
       "    .dataframe thead th {\n",
       "        text-align: right;\n",
       "    }\n",
       "</style>\n",
       "<table border=\"1\" class=\"dataframe\">\n",
       "  <thead>\n",
       "    <tr style=\"text-align: right;\">\n",
       "      <th></th>\n",
       "      <th>perwt</th>\n",
       "    </tr>\n",
       "    <tr>\n",
       "      <th>bpld</th>\n",
       "      <th></th>\n",
       "    </tr>\n",
       "  </thead>\n",
       "  <tbody>\n",
       "    <tr>\n",
       "      <th>china</th>\n",
       "      <td>146135.0</td>\n",
       "    </tr>\n",
       "    <tr>\n",
       "      <th>mexico</th>\n",
       "      <td>145667.0</td>\n",
       "    </tr>\n",
       "    <tr>\n",
       "      <th>india</th>\n",
       "      <td>117132.0</td>\n",
       "    </tr>\n",
       "    <tr>\n",
       "      <th>philippines</th>\n",
       "      <td>60819.0</td>\n",
       "    </tr>\n",
       "    <tr>\n",
       "      <th>vietnam</th>\n",
       "      <td>41446.0</td>\n",
       "    </tr>\n",
       "    <tr>\n",
       "      <th>el salvador</th>\n",
       "      <td>33049.0</td>\n",
       "    </tr>\n",
       "    <tr>\n",
       "      <th>iran</th>\n",
       "      <td>27753.0</td>\n",
       "    </tr>\n",
       "    <tr>\n",
       "      <th>korea</th>\n",
       "      <td>24582.0</td>\n",
       "    </tr>\n",
       "    <tr>\n",
       "      <th>guatemala</th>\n",
       "      <td>18431.0</td>\n",
       "    </tr>\n",
       "    <tr>\n",
       "      <th>japan</th>\n",
       "      <td>17247.0</td>\n",
       "    </tr>\n",
       "    <tr>\n",
       "      <th>canada</th>\n",
       "      <td>16880.0</td>\n",
       "    </tr>\n",
       "    <tr>\n",
       "      <th>taiwan</th>\n",
       "      <td>13449.0</td>\n",
       "    </tr>\n",
       "    <tr>\n",
       "      <th>brazil</th>\n",
       "      <td>13064.0</td>\n",
       "    </tr>\n",
       "    <tr>\n",
       "      <th>pakistan</th>\n",
       "      <td>10678.0</td>\n",
       "    </tr>\n",
       "    <tr>\n",
       "      <th>iraq</th>\n",
       "      <td>10657.0</td>\n",
       "    </tr>\n",
       "    <tr>\n",
       "      <th>united kingdom, ns</th>\n",
       "      <td>8991.0</td>\n",
       "    </tr>\n",
       "    <tr>\n",
       "      <th>other ussr/russia</th>\n",
       "      <td>8376.0</td>\n",
       "    </tr>\n",
       "    <tr>\n",
       "      <th>armenia</th>\n",
       "      <td>8212.0</td>\n",
       "    </tr>\n",
       "    <tr>\n",
       "      <th>germany</th>\n",
       "      <td>8125.0</td>\n",
       "    </tr>\n",
       "    <tr>\n",
       "      <th>afghanistan</th>\n",
       "      <td>8125.0</td>\n",
       "    </tr>\n",
       "  </tbody>\n",
       "</table>\n",
       "</div>"
      ],
      "text/plain": [
       "                       perwt\n",
       "bpld                        \n",
       "china               146135.0\n",
       "mexico              145667.0\n",
       "india               117132.0\n",
       "philippines          60819.0\n",
       "vietnam              41446.0\n",
       "el salvador          33049.0\n",
       "iran                 27753.0\n",
       "korea                24582.0\n",
       "guatemala            18431.0\n",
       "japan                17247.0\n",
       "canada               16880.0\n",
       "taiwan               13449.0\n",
       "brazil               13064.0\n",
       "pakistan             10678.0\n",
       "iraq                 10657.0\n",
       "united kingdom, ns    8991.0\n",
       "other ussr/russia     8376.0\n",
       "armenia               8212.0\n",
       "germany               8125.0\n",
       "afghanistan           8125.0"
      ]
     },
     "execution_count": 38,
     "metadata": {},
     "output_type": "execute_result"
    }
   ],
   "source": [
    "immig.xs('2016', level = 0).sort_values(by = 'perwt', ascending = False).head(0)"
   ]
  },
  {
   "cell_type": "code",
   "execution_count": 36,
   "metadata": {},
   "outputs": [
    {
     "data": {
      "text/plain": [
       "0.549210401068341"
      ]
     },
     "execution_count": 36,
     "metadata": {},
     "output_type": "execute_result"
    }
   ],
   "source": [
    "511199/930789"
   ]
  },
  {
   "cell_type": "code",
   "execution_count": null,
   "metadata": {},
   "outputs": [],
   "source": []
  }
 ],
 "metadata": {
  "kernelspec": {
   "display_name": "Python 3",
   "language": "python",
   "name": "python3"
  },
  "language_info": {
   "codemirror_mode": {
    "name": "ipython",
    "version": 3
   },
   "file_extension": ".py",
   "mimetype": "text/x-python",
   "name": "python",
   "nbconvert_exporter": "python",
   "pygments_lexer": "ipython3",
   "version": "3.6.3"
  }
 },
 "nbformat": 4,
 "nbformat_minor": 2
}
