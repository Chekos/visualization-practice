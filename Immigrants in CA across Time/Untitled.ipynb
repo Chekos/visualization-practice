{
 "cells": [
  {
   "cell_type": "code",
   "execution_count": 1,
   "metadata": {},
   "outputs": [],
   "source": [
    "import pandas as pd\n",
    "import numpy as np\n",
    "import matplotlib.pyplot as plt\n",
    "import altair as alt\n",
    "from ipywidgets import interact, interactive, fixed, interact_manual\n",
    "import ipywidgets as widgets\n",
    "%matplotlib inline"
   ]
  },
  {
   "cell_type": "code",
   "execution_count": 2,
   "metadata": {},
   "outputs": [],
   "source": [
    "df = pd.read_stata('usa_00021.dta')"
   ]
  },
  {
   "cell_type": "code",
   "execution_count": 3,
   "metadata": {},
   "outputs": [
    {
     "data": {
      "text/plain": [
       "(211012, 16)"
      ]
     },
     "execution_count": 3,
     "metadata": {},
     "output_type": "execute_result"
    }
   ],
   "source": [
    "df.shape"
   ]
  },
  {
   "cell_type": "code",
   "execution_count": 4,
   "metadata": {},
   "outputs": [
    {
     "data": {
      "text/html": [
       "<div>\n",
       "<style scoped>\n",
       "    .dataframe tbody tr th:only-of-type {\n",
       "        vertical-align: middle;\n",
       "    }\n",
       "\n",
       "    .dataframe tbody tr th {\n",
       "        vertical-align: top;\n",
       "    }\n",
       "\n",
       "    .dataframe thead th {\n",
       "        text-align: right;\n",
       "    }\n",
       "</style>\n",
       "<table border=\"1\" class=\"dataframe\">\n",
       "  <thead>\n",
       "    <tr style=\"text-align: right;\">\n",
       "      <th></th>\n",
       "      <th>year</th>\n",
       "      <th>datanum</th>\n",
       "      <th>serial</th>\n",
       "      <th>hhwt</th>\n",
       "      <th>statefip</th>\n",
       "      <th>gq</th>\n",
       "      <th>pernum</th>\n",
       "      <th>perwt</th>\n",
       "      <th>sex</th>\n",
       "      <th>age</th>\n",
       "      <th>bpl</th>\n",
       "      <th>bpld</th>\n",
       "      <th>citizen</th>\n",
       "      <th>yrsusa2</th>\n",
       "      <th>educ</th>\n",
       "      <th>educd</th>\n",
       "    </tr>\n",
       "  </thead>\n",
       "  <tbody>\n",
       "    <tr>\n",
       "      <th>0</th>\n",
       "      <td>1980</td>\n",
       "      <td>1</td>\n",
       "      <td>192105</td>\n",
       "      <td>20</td>\n",
       "      <td>california</td>\n",
       "      <td>households under 1970 definition</td>\n",
       "      <td>1</td>\n",
       "      <td>20</td>\n",
       "      <td>male</td>\n",
       "      <td>47</td>\n",
       "      <td>vietnam</td>\n",
       "      <td>vietnam</td>\n",
       "      <td>not a citizen</td>\n",
       "      <td>0-5 years</td>\n",
       "      <td>2 years of college</td>\n",
       "      <td>2 years of college</td>\n",
       "    </tr>\n",
       "    <tr>\n",
       "      <th>1</th>\n",
       "      <td>1980</td>\n",
       "      <td>1</td>\n",
       "      <td>192105</td>\n",
       "      <td>20</td>\n",
       "      <td>california</td>\n",
       "      <td>households under 1970 definition</td>\n",
       "      <td>2</td>\n",
       "      <td>20</td>\n",
       "      <td>female</td>\n",
       "      <td>42</td>\n",
       "      <td>vietnam</td>\n",
       "      <td>vietnam</td>\n",
       "      <td>not a citizen</td>\n",
       "      <td>0-5 years</td>\n",
       "      <td>grade 10</td>\n",
       "      <td>grade 10</td>\n",
       "    </tr>\n",
       "    <tr>\n",
       "      <th>2</th>\n",
       "      <td>1980</td>\n",
       "      <td>1</td>\n",
       "      <td>192105</td>\n",
       "      <td>20</td>\n",
       "      <td>california</td>\n",
       "      <td>households under 1970 definition</td>\n",
       "      <td>3</td>\n",
       "      <td>20</td>\n",
       "      <td>female</td>\n",
       "      <td>18</td>\n",
       "      <td>vietnam</td>\n",
       "      <td>vietnam</td>\n",
       "      <td>not a citizen</td>\n",
       "      <td>0-5 years</td>\n",
       "      <td>grade 12</td>\n",
       "      <td>grade 12</td>\n",
       "    </tr>\n",
       "    <tr>\n",
       "      <th>3</th>\n",
       "      <td>1980</td>\n",
       "      <td>1</td>\n",
       "      <td>192264</td>\n",
       "      <td>20</td>\n",
       "      <td>california</td>\n",
       "      <td>households under 1970 definition</td>\n",
       "      <td>1</td>\n",
       "      <td>20</td>\n",
       "      <td>male</td>\n",
       "      <td>33</td>\n",
       "      <td>south america</td>\n",
       "      <td>venezuela</td>\n",
       "      <td>not a citizen</td>\n",
       "      <td>0-5 years</td>\n",
       "      <td>4 years of college</td>\n",
       "      <td>4 years of college</td>\n",
       "    </tr>\n",
       "    <tr>\n",
       "      <th>4</th>\n",
       "      <td>1980</td>\n",
       "      <td>1</td>\n",
       "      <td>192264</td>\n",
       "      <td>20</td>\n",
       "      <td>california</td>\n",
       "      <td>households under 1970 definition</td>\n",
       "      <td>2</td>\n",
       "      <td>20</td>\n",
       "      <td>female</td>\n",
       "      <td>32</td>\n",
       "      <td>south america</td>\n",
       "      <td>venezuela</td>\n",
       "      <td>not a citizen</td>\n",
       "      <td>0-5 years</td>\n",
       "      <td>grade 12</td>\n",
       "      <td>some college, but less than 1 year</td>\n",
       "    </tr>\n",
       "  </tbody>\n",
       "</table>\n",
       "</div>"
      ],
      "text/plain": [
       "   year  datanum  serial  hhwt    statefip                                gq  \\\n",
       "0  1980        1  192105    20  california  households under 1970 definition   \n",
       "1  1980        1  192105    20  california  households under 1970 definition   \n",
       "2  1980        1  192105    20  california  households under 1970 definition   \n",
       "3  1980        1  192264    20  california  households under 1970 definition   \n",
       "4  1980        1  192264    20  california  households under 1970 definition   \n",
       "\n",
       "   pernum  perwt     sex age            bpl       bpld        citizen  \\\n",
       "0       1     20    male  47        vietnam    vietnam  not a citizen   \n",
       "1       2     20  female  42        vietnam    vietnam  not a citizen   \n",
       "2       3     20  female  18        vietnam    vietnam  not a citizen   \n",
       "3       1     20    male  33  south america  venezuela  not a citizen   \n",
       "4       2     20  female  32  south america  venezuela  not a citizen   \n",
       "\n",
       "     yrsusa2                educ                               educd  \n",
       "0  0-5 years  2 years of college                  2 years of college  \n",
       "1  0-5 years            grade 10                            grade 10  \n",
       "2  0-5 years            grade 12                            grade 12  \n",
       "3  0-5 years  4 years of college                  4 years of college  \n",
       "4  0-5 years            grade 12  some college, but less than 1 year  "
      ]
     },
     "execution_count": 4,
     "metadata": {},
     "output_type": "execute_result"
    }
   ],
   "source": [
    "df.head()"
   ]
  },
  {
   "cell_type": "code",
   "execution_count": 10,
   "metadata": {},
   "outputs": [
    {
     "data": {
      "text/plain": [
       "[2 years of college, grade 10, grade 12, 4 years of college, some college, but less than 1 year, ..., 8+ years of college, grade 7, 7 years of college, kindergarten, nursery school, preschool]\n",
       "Length: 24\n",
       "Categories (24, object): [no schooling completed < nursery school, preschool < kindergarten < grade 1 ... 5+ years of college < 6 years of college (6+ in 1960-1970) < 7 years of college < 8+ years of college]"
      ]
     },
     "execution_count": 10,
     "metadata": {},
     "output_type": "execute_result"
    }
   ],
   "source": [
    "df[df['year'] == '1980']['educd'].unique()"
   ]
  },
  {
   "cell_type": "code",
   "execution_count": 15,
   "metadata": {},
   "outputs": [
    {
     "data": {
      "text/plain": [
       "Index(['no schooling completed', 'nursery school to grade 4',\n",
       "       'nursery school, preschool', 'kindergarten', 'grade 1, 2, 3, or 4',\n",
       "       'grade 1', 'grade 2', 'grade 3', 'grade 4', 'grade 5, 6, 7, or 8',\n",
       "       'grade 5 or 6', 'grade 5', 'grade 6', 'grade 7 or 8', 'grade 7',\n",
       "       'grade 8', 'grade 9', 'grade 10', 'grade 11', 'grade 12',\n",
       "       '12th grade, no diploma', 'high school graduate or ged',\n",
       "       'regular high school diploma', 'ged or alternative credential',\n",
       "       'some college, but less than 1 year', '1 year of college',\n",
       "       '1 or more years of college credit, no degree', '2 years of college',\n",
       "       'associate's degree, type not specified',\n",
       "       'associate's degree, occupational program',\n",
       "       'associate's degree, academic program', '3 years of college',\n",
       "       '4 years of college', 'bachelor's degree', '5+ years of college',\n",
       "       '6 years of college (6+ in 1960-1970)', '7 years of college',\n",
       "       '8+ years of college', 'master's degree',\n",
       "       'professional degree beyond a bachelor's degree', 'doctoral degree'],\n",
       "      dtype='object')"
      ]
     },
     "execution_count": 15,
     "metadata": {},
     "output_type": "execute_result"
    }
   ],
   "source": [
    "df['educd'].cat.categories"
   ]
  },
  {
   "cell_type": "code",
   "execution_count": 16,
   "metadata": {},
   "outputs": [
    {
     "data": {
      "text/html": [
       "<div>\n",
       "<style scoped>\n",
       "    .dataframe tbody tr th:only-of-type {\n",
       "        vertical-align: middle;\n",
       "    }\n",
       "\n",
       "    .dataframe tbody tr th {\n",
       "        vertical-align: top;\n",
       "    }\n",
       "\n",
       "    .dataframe thead th {\n",
       "        text-align: right;\n",
       "    }\n",
       "</style>\n",
       "<table border=\"1\" class=\"dataframe\">\n",
       "  <thead>\n",
       "    <tr style=\"text-align: right;\">\n",
       "      <th></th>\n",
       "      <th>year</th>\n",
       "      <th>datanum</th>\n",
       "      <th>serial</th>\n",
       "      <th>hhwt</th>\n",
       "      <th>statefip</th>\n",
       "      <th>gq</th>\n",
       "      <th>pernum</th>\n",
       "      <th>perwt</th>\n",
       "      <th>sex</th>\n",
       "      <th>age</th>\n",
       "      <th>bpl</th>\n",
       "      <th>bpld</th>\n",
       "      <th>citizen</th>\n",
       "      <th>yrsusa2</th>\n",
       "      <th>educ</th>\n",
       "      <th>educd</th>\n",
       "    </tr>\n",
       "  </thead>\n",
       "  <tbody>\n",
       "    <tr>\n",
       "      <th>3</th>\n",
       "      <td>1980</td>\n",
       "      <td>1</td>\n",
       "      <td>192264</td>\n",
       "      <td>20</td>\n",
       "      <td>california</td>\n",
       "      <td>households under 1970 definition</td>\n",
       "      <td>1</td>\n",
       "      <td>20</td>\n",
       "      <td>male</td>\n",
       "      <td>33</td>\n",
       "      <td>south america</td>\n",
       "      <td>venezuela</td>\n",
       "      <td>not a citizen</td>\n",
       "      <td>0-5 years</td>\n",
       "      <td>4 years of college</td>\n",
       "      <td>4 years of college</td>\n",
       "    </tr>\n",
       "    <tr>\n",
       "      <th>7</th>\n",
       "      <td>1980</td>\n",
       "      <td>1</td>\n",
       "      <td>192542</td>\n",
       "      <td>20</td>\n",
       "      <td>california</td>\n",
       "      <td>households under 1970 definition</td>\n",
       "      <td>1</td>\n",
       "      <td>20</td>\n",
       "      <td>male</td>\n",
       "      <td>30</td>\n",
       "      <td>south america</td>\n",
       "      <td>venezuela</td>\n",
       "      <td>not a citizen</td>\n",
       "      <td>0-5 years</td>\n",
       "      <td>4 years of college</td>\n",
       "      <td>4 years of college</td>\n",
       "    </tr>\n",
       "    <tr>\n",
       "      <th>8</th>\n",
       "      <td>1980</td>\n",
       "      <td>1</td>\n",
       "      <td>192542</td>\n",
       "      <td>20</td>\n",
       "      <td>california</td>\n",
       "      <td>households under 1970 definition</td>\n",
       "      <td>2</td>\n",
       "      <td>20</td>\n",
       "      <td>female</td>\n",
       "      <td>27</td>\n",
       "      <td>south america</td>\n",
       "      <td>venezuela</td>\n",
       "      <td>not a citizen</td>\n",
       "      <td>0-5 years</td>\n",
       "      <td>4 years of college</td>\n",
       "      <td>4 years of college</td>\n",
       "    </tr>\n",
       "    <tr>\n",
       "      <th>21</th>\n",
       "      <td>1980</td>\n",
       "      <td>1</td>\n",
       "      <td>193832</td>\n",
       "      <td>20</td>\n",
       "      <td>california</td>\n",
       "      <td>households under 1970 definition</td>\n",
       "      <td>2</td>\n",
       "      <td>20</td>\n",
       "      <td>male</td>\n",
       "      <td>25</td>\n",
       "      <td>saudi arabia</td>\n",
       "      <td>saudi arabia</td>\n",
       "      <td>not a citizen</td>\n",
       "      <td>0-5 years</td>\n",
       "      <td>5+ years of college</td>\n",
       "      <td>5+ years of college</td>\n",
       "    </tr>\n",
       "    <tr>\n",
       "      <th>35</th>\n",
       "      <td>1980</td>\n",
       "      <td>1</td>\n",
       "      <td>195093</td>\n",
       "      <td>20</td>\n",
       "      <td>california</td>\n",
       "      <td>households under 1970 definition</td>\n",
       "      <td>1</td>\n",
       "      <td>20</td>\n",
       "      <td>male</td>\n",
       "      <td>33</td>\n",
       "      <td>canada</td>\n",
       "      <td>canada</td>\n",
       "      <td>not a citizen</td>\n",
       "      <td>0-5 years</td>\n",
       "      <td>5+ years of college</td>\n",
       "      <td>6 years of college (6+ in 1960-1970)</td>\n",
       "    </tr>\n",
       "    <tr>\n",
       "      <th>36</th>\n",
       "      <td>1980</td>\n",
       "      <td>1</td>\n",
       "      <td>195111</td>\n",
       "      <td>20</td>\n",
       "      <td>california</td>\n",
       "      <td>households under 1970 definition</td>\n",
       "      <td>1</td>\n",
       "      <td>20</td>\n",
       "      <td>male</td>\n",
       "      <td>49</td>\n",
       "      <td>china</td>\n",
       "      <td>china</td>\n",
       "      <td>not a citizen</td>\n",
       "      <td>0-5 years</td>\n",
       "      <td>4 years of college</td>\n",
       "      <td>4 years of college</td>\n",
       "    </tr>\n",
       "    <tr>\n",
       "      <th>38</th>\n",
       "      <td>1980</td>\n",
       "      <td>1</td>\n",
       "      <td>195337</td>\n",
       "      <td>20</td>\n",
       "      <td>california</td>\n",
       "      <td>households under 1970 definition</td>\n",
       "      <td>1</td>\n",
       "      <td>20</td>\n",
       "      <td>male</td>\n",
       "      <td>50</td>\n",
       "      <td>philippines</td>\n",
       "      <td>philippines</td>\n",
       "      <td>not a citizen</td>\n",
       "      <td>0-5 years</td>\n",
       "      <td>4 years of college</td>\n",
       "      <td>4 years of college</td>\n",
       "    </tr>\n",
       "    <tr>\n",
       "      <th>39</th>\n",
       "      <td>1980</td>\n",
       "      <td>1</td>\n",
       "      <td>195337</td>\n",
       "      <td>20</td>\n",
       "      <td>california</td>\n",
       "      <td>households under 1970 definition</td>\n",
       "      <td>2</td>\n",
       "      <td>20</td>\n",
       "      <td>female</td>\n",
       "      <td>43</td>\n",
       "      <td>philippines</td>\n",
       "      <td>philippines</td>\n",
       "      <td>not a citizen</td>\n",
       "      <td>0-5 years</td>\n",
       "      <td>4 years of college</td>\n",
       "      <td>4 years of college</td>\n",
       "    </tr>\n",
       "    <tr>\n",
       "      <th>68</th>\n",
       "      <td>1980</td>\n",
       "      <td>1</td>\n",
       "      <td>196453</td>\n",
       "      <td>20</td>\n",
       "      <td>california</td>\n",
       "      <td>households under 1970 definition</td>\n",
       "      <td>2</td>\n",
       "      <td>20</td>\n",
       "      <td>male</td>\n",
       "      <td>38</td>\n",
       "      <td>syria</td>\n",
       "      <td>syria</td>\n",
       "      <td>not a citizen</td>\n",
       "      <td>0-5 years</td>\n",
       "      <td>5+ years of college</td>\n",
       "      <td>6 years of college (6+ in 1960-1970)</td>\n",
       "    </tr>\n",
       "    <tr>\n",
       "      <th>72</th>\n",
       "      <td>1980</td>\n",
       "      <td>1</td>\n",
       "      <td>196860</td>\n",
       "      <td>20</td>\n",
       "      <td>california</td>\n",
       "      <td>households under 1970 definition</td>\n",
       "      <td>2</td>\n",
       "      <td>20</td>\n",
       "      <td>male</td>\n",
       "      <td>35</td>\n",
       "      <td>india</td>\n",
       "      <td>india</td>\n",
       "      <td>not a citizen</td>\n",
       "      <td>0-5 years</td>\n",
       "      <td>5+ years of college</td>\n",
       "      <td>5+ years of college</td>\n",
       "    </tr>\n",
       "    <tr>\n",
       "      <th>83</th>\n",
       "      <td>1980</td>\n",
       "      <td>1</td>\n",
       "      <td>198145</td>\n",
       "      <td>20</td>\n",
       "      <td>california</td>\n",
       "      <td>households under 1970 definition</td>\n",
       "      <td>3</td>\n",
       "      <td>20</td>\n",
       "      <td>male</td>\n",
       "      <td>24</td>\n",
       "      <td>india</td>\n",
       "      <td>india</td>\n",
       "      <td>not a citizen</td>\n",
       "      <td>0-5 years</td>\n",
       "      <td>5+ years of college</td>\n",
       "      <td>8+ years of college</td>\n",
       "    </tr>\n",
       "    <tr>\n",
       "      <th>116</th>\n",
       "      <td>1980</td>\n",
       "      <td>1</td>\n",
       "      <td>203470</td>\n",
       "      <td>20</td>\n",
       "      <td>california</td>\n",
       "      <td>households under 1970 definition</td>\n",
       "      <td>1</td>\n",
       "      <td>20</td>\n",
       "      <td>male</td>\n",
       "      <td>38</td>\n",
       "      <td>vietnam</td>\n",
       "      <td>vietnam</td>\n",
       "      <td>not a citizen</td>\n",
       "      <td>0-5 years</td>\n",
       "      <td>4 years of college</td>\n",
       "      <td>4 years of college</td>\n",
       "    </tr>\n",
       "    <tr>\n",
       "      <th>121</th>\n",
       "      <td>1980</td>\n",
       "      <td>1</td>\n",
       "      <td>203585</td>\n",
       "      <td>20</td>\n",
       "      <td>california</td>\n",
       "      <td>households under 1970 definition</td>\n",
       "      <td>1</td>\n",
       "      <td>20</td>\n",
       "      <td>male</td>\n",
       "      <td>33</td>\n",
       "      <td>iran</td>\n",
       "      <td>iran</td>\n",
       "      <td>not a citizen</td>\n",
       "      <td>0-5 years</td>\n",
       "      <td>5+ years of college</td>\n",
       "      <td>7 years of college</td>\n",
       "    </tr>\n",
       "    <tr>\n",
       "      <th>129</th>\n",
       "      <td>1980</td>\n",
       "      <td>1</td>\n",
       "      <td>203959</td>\n",
       "      <td>20</td>\n",
       "      <td>california</td>\n",
       "      <td>households under 1970 definition</td>\n",
       "      <td>2</td>\n",
       "      <td>20</td>\n",
       "      <td>female</td>\n",
       "      <td>25</td>\n",
       "      <td>australia and new zealand</td>\n",
       "      <td>australia</td>\n",
       "      <td>not a citizen</td>\n",
       "      <td>0-5 years</td>\n",
       "      <td>4 years of college</td>\n",
       "      <td>4 years of college</td>\n",
       "    </tr>\n",
       "    <tr>\n",
       "      <th>136</th>\n",
       "      <td>1980</td>\n",
       "      <td>1</td>\n",
       "      <td>204305</td>\n",
       "      <td>20</td>\n",
       "      <td>california</td>\n",
       "      <td>households under 1970 definition</td>\n",
       "      <td>1</td>\n",
       "      <td>20</td>\n",
       "      <td>male</td>\n",
       "      <td>25</td>\n",
       "      <td>pacific islands</td>\n",
       "      <td>micronesia, ns</td>\n",
       "      <td>not a citizen</td>\n",
       "      <td>0-5 years</td>\n",
       "      <td>4 years of college</td>\n",
       "      <td>4 years of college</td>\n",
       "    </tr>\n",
       "    <tr>\n",
       "      <th>146</th>\n",
       "      <td>1980</td>\n",
       "      <td>1</td>\n",
       "      <td>204649</td>\n",
       "      <td>20</td>\n",
       "      <td>california</td>\n",
       "      <td>households under 1970 definition</td>\n",
       "      <td>1</td>\n",
       "      <td>20</td>\n",
       "      <td>male</td>\n",
       "      <td>39</td>\n",
       "      <td>china</td>\n",
       "      <td>china</td>\n",
       "      <td>not a citizen</td>\n",
       "      <td>0-5 years</td>\n",
       "      <td>5+ years of college</td>\n",
       "      <td>6 years of college (6+ in 1960-1970)</td>\n",
       "    </tr>\n",
       "    <tr>\n",
       "      <th>156</th>\n",
       "      <td>1980</td>\n",
       "      <td>1</td>\n",
       "      <td>204987</td>\n",
       "      <td>20</td>\n",
       "      <td>california</td>\n",
       "      <td>households under 1970 definition</td>\n",
       "      <td>1</td>\n",
       "      <td>20</td>\n",
       "      <td>male</td>\n",
       "      <td>29</td>\n",
       "      <td>australia and new zealand</td>\n",
       "      <td>australia</td>\n",
       "      <td>not a citizen</td>\n",
       "      <td>0-5 years</td>\n",
       "      <td>5+ years of college</td>\n",
       "      <td>8+ years of college</td>\n",
       "    </tr>\n",
       "    <tr>\n",
       "      <th>175</th>\n",
       "      <td>1980</td>\n",
       "      <td>1</td>\n",
       "      <td>206062</td>\n",
       "      <td>20</td>\n",
       "      <td>california</td>\n",
       "      <td>households under 1970 definition</td>\n",
       "      <td>2</td>\n",
       "      <td>20</td>\n",
       "      <td>male</td>\n",
       "      <td>30</td>\n",
       "      <td>england</td>\n",
       "      <td>england</td>\n",
       "      <td>not a citizen</td>\n",
       "      <td>0-5 years</td>\n",
       "      <td>5+ years of college</td>\n",
       "      <td>5+ years of college</td>\n",
       "    </tr>\n",
       "    <tr>\n",
       "      <th>190</th>\n",
       "      <td>1980</td>\n",
       "      <td>1</td>\n",
       "      <td>207004</td>\n",
       "      <td>20</td>\n",
       "      <td>california</td>\n",
       "      <td>households under 1970 definition</td>\n",
       "      <td>1</td>\n",
       "      <td>20</td>\n",
       "      <td>male</td>\n",
       "      <td>41</td>\n",
       "      <td>india</td>\n",
       "      <td>india</td>\n",
       "      <td>not a citizen</td>\n",
       "      <td>0-5 years</td>\n",
       "      <td>4 years of college</td>\n",
       "      <td>4 years of college</td>\n",
       "    </tr>\n",
       "    <tr>\n",
       "      <th>191</th>\n",
       "      <td>1980</td>\n",
       "      <td>1</td>\n",
       "      <td>207020</td>\n",
       "      <td>20</td>\n",
       "      <td>california</td>\n",
       "      <td>households under 1970 definition</td>\n",
       "      <td>1</td>\n",
       "      <td>20</td>\n",
       "      <td>male</td>\n",
       "      <td>24</td>\n",
       "      <td>denmark</td>\n",
       "      <td>denmark</td>\n",
       "      <td>not a citizen</td>\n",
       "      <td>0-5 years</td>\n",
       "      <td>4 years of college</td>\n",
       "      <td>4 years of college</td>\n",
       "    </tr>\n",
       "    <tr>\n",
       "      <th>209</th>\n",
       "      <td>1980</td>\n",
       "      <td>1</td>\n",
       "      <td>207697</td>\n",
       "      <td>20</td>\n",
       "      <td>california</td>\n",
       "      <td>households under 1970 definition</td>\n",
       "      <td>1</td>\n",
       "      <td>20</td>\n",
       "      <td>male</td>\n",
       "      <td>26</td>\n",
       "      <td>india</td>\n",
       "      <td>india</td>\n",
       "      <td>not a citizen</td>\n",
       "      <td>0-5 years</td>\n",
       "      <td>4 years of college</td>\n",
       "      <td>4 years of college</td>\n",
       "    </tr>\n",
       "    <tr>\n",
       "      <th>234</th>\n",
       "      <td>1980</td>\n",
       "      <td>1</td>\n",
       "      <td>208313</td>\n",
       "      <td>20</td>\n",
       "      <td>california</td>\n",
       "      <td>households under 1970 definition</td>\n",
       "      <td>1</td>\n",
       "      <td>20</td>\n",
       "      <td>male</td>\n",
       "      <td>25</td>\n",
       "      <td>canada</td>\n",
       "      <td>canada</td>\n",
       "      <td>not a citizen</td>\n",
       "      <td>0-5 years</td>\n",
       "      <td>4 years of college</td>\n",
       "      <td>4 years of college</td>\n",
       "    </tr>\n",
       "    <tr>\n",
       "      <th>243</th>\n",
       "      <td>1980</td>\n",
       "      <td>1</td>\n",
       "      <td>208583</td>\n",
       "      <td>20</td>\n",
       "      <td>california</td>\n",
       "      <td>households under 1970 definition</td>\n",
       "      <td>1</td>\n",
       "      <td>20</td>\n",
       "      <td>male</td>\n",
       "      <td>64</td>\n",
       "      <td>philippines</td>\n",
       "      <td>philippines</td>\n",
       "      <td>not a citizen</td>\n",
       "      <td>0-5 years</td>\n",
       "      <td>5+ years of college</td>\n",
       "      <td>8+ years of college</td>\n",
       "    </tr>\n",
       "    <tr>\n",
       "      <th>252</th>\n",
       "      <td>1980</td>\n",
       "      <td>1</td>\n",
       "      <td>208698</td>\n",
       "      <td>20</td>\n",
       "      <td>california</td>\n",
       "      <td>other group quarters</td>\n",
       "      <td>1</td>\n",
       "      <td>20</td>\n",
       "      <td>male</td>\n",
       "      <td>26</td>\n",
       "      <td>central america</td>\n",
       "      <td>panama</td>\n",
       "      <td>not a citizen</td>\n",
       "      <td>0-5 years</td>\n",
       "      <td>4 years of college</td>\n",
       "      <td>4 years of college</td>\n",
       "    </tr>\n",
       "    <tr>\n",
       "      <th>275</th>\n",
       "      <td>1980</td>\n",
       "      <td>1</td>\n",
       "      <td>209163</td>\n",
       "      <td>20</td>\n",
       "      <td>california</td>\n",
       "      <td>households under 1970 definition</td>\n",
       "      <td>1</td>\n",
       "      <td>20</td>\n",
       "      <td>male</td>\n",
       "      <td>28</td>\n",
       "      <td>abroad (unknown) or at sea</td>\n",
       "      <td>abroad, ns</td>\n",
       "      <td>not a citizen</td>\n",
       "      <td>0-5 years</td>\n",
       "      <td>4 years of college</td>\n",
       "      <td>4 years of college</td>\n",
       "    </tr>\n",
       "    <tr>\n",
       "      <th>289</th>\n",
       "      <td>1980</td>\n",
       "      <td>1</td>\n",
       "      <td>209358</td>\n",
       "      <td>20</td>\n",
       "      <td>california</td>\n",
       "      <td>households under 1970 definition</td>\n",
       "      <td>2</td>\n",
       "      <td>20</td>\n",
       "      <td>female</td>\n",
       "      <td>24</td>\n",
       "      <td>mexico</td>\n",
       "      <td>mexico</td>\n",
       "      <td>not a citizen</td>\n",
       "      <td>0-5 years</td>\n",
       "      <td>5+ years of college</td>\n",
       "      <td>5+ years of college</td>\n",
       "    </tr>\n",
       "    <tr>\n",
       "      <th>294</th>\n",
       "      <td>1980</td>\n",
       "      <td>1</td>\n",
       "      <td>209818</td>\n",
       "      <td>20</td>\n",
       "      <td>california</td>\n",
       "      <td>households under 1970 definition</td>\n",
       "      <td>3</td>\n",
       "      <td>20</td>\n",
       "      <td>male</td>\n",
       "      <td>24</td>\n",
       "      <td>mexico</td>\n",
       "      <td>mexico</td>\n",
       "      <td>not a citizen</td>\n",
       "      <td>0-5 years</td>\n",
       "      <td>4 years of college</td>\n",
       "      <td>4 years of college</td>\n",
       "    </tr>\n",
       "    <tr>\n",
       "      <th>304</th>\n",
       "      <td>1980</td>\n",
       "      <td>1</td>\n",
       "      <td>210536</td>\n",
       "      <td>20</td>\n",
       "      <td>california</td>\n",
       "      <td>households under 1970 definition</td>\n",
       "      <td>4</td>\n",
       "      <td>20</td>\n",
       "      <td>female</td>\n",
       "      <td>57</td>\n",
       "      <td>philippines</td>\n",
       "      <td>philippines</td>\n",
       "      <td>not a citizen</td>\n",
       "      <td>0-5 years</td>\n",
       "      <td>4 years of college</td>\n",
       "      <td>4 years of college</td>\n",
       "    </tr>\n",
       "    <tr>\n",
       "      <th>306</th>\n",
       "      <td>1980</td>\n",
       "      <td>1</td>\n",
       "      <td>210790</td>\n",
       "      <td>20</td>\n",
       "      <td>california</td>\n",
       "      <td>households under 1970 definition</td>\n",
       "      <td>2</td>\n",
       "      <td>20</td>\n",
       "      <td>female</td>\n",
       "      <td>25</td>\n",
       "      <td>philippines</td>\n",
       "      <td>philippines</td>\n",
       "      <td>not a citizen</td>\n",
       "      <td>0-5 years</td>\n",
       "      <td>4 years of college</td>\n",
       "      <td>4 years of college</td>\n",
       "    </tr>\n",
       "    <tr>\n",
       "      <th>308</th>\n",
       "      <td>1980</td>\n",
       "      <td>1</td>\n",
       "      <td>210928</td>\n",
       "      <td>20</td>\n",
       "      <td>california</td>\n",
       "      <td>households under 1970 definition</td>\n",
       "      <td>1</td>\n",
       "      <td>20</td>\n",
       "      <td>male</td>\n",
       "      <td>52</td>\n",
       "      <td>philippines</td>\n",
       "      <td>philippines</td>\n",
       "      <td>not a citizen</td>\n",
       "      <td>0-5 years</td>\n",
       "      <td>5+ years of college</td>\n",
       "      <td>8+ years of college</td>\n",
       "    </tr>\n",
       "    <tr>\n",
       "      <th>...</th>\n",
       "      <td>...</td>\n",
       "      <td>...</td>\n",
       "      <td>...</td>\n",
       "      <td>...</td>\n",
       "      <td>...</td>\n",
       "      <td>...</td>\n",
       "      <td>...</td>\n",
       "      <td>...</td>\n",
       "      <td>...</td>\n",
       "      <td>...</td>\n",
       "      <td>...</td>\n",
       "      <td>...</td>\n",
       "      <td>...</td>\n",
       "      <td>...</td>\n",
       "      <td>...</td>\n",
       "      <td>...</td>\n",
       "    </tr>\n",
       "    <tr>\n",
       "      <th>210953</th>\n",
       "      <td>2016</td>\n",
       "      <td>1</td>\n",
       "      <td>215076</td>\n",
       "      <td>66</td>\n",
       "      <td>california</td>\n",
       "      <td>households under 1970 definition</td>\n",
       "      <td>2</td>\n",
       "      <td>45</td>\n",
       "      <td>female</td>\n",
       "      <td>33</td>\n",
       "      <td>vietnam</td>\n",
       "      <td>vietnam</td>\n",
       "      <td>not a citizen</td>\n",
       "      <td>0-5 years</td>\n",
       "      <td>4 years of college</td>\n",
       "      <td>bachelor's degree</td>\n",
       "    </tr>\n",
       "    <tr>\n",
       "      <th>210957</th>\n",
       "      <td>2016</td>\n",
       "      <td>1</td>\n",
       "      <td>215101</td>\n",
       "      <td>124</td>\n",
       "      <td>california</td>\n",
       "      <td>households under 1970 definition</td>\n",
       "      <td>1</td>\n",
       "      <td>125</td>\n",
       "      <td>male</td>\n",
       "      <td>26</td>\n",
       "      <td>india</td>\n",
       "      <td>india</td>\n",
       "      <td>not a citizen</td>\n",
       "      <td>0-5 years</td>\n",
       "      <td>5+ years of college</td>\n",
       "      <td>master's degree</td>\n",
       "    </tr>\n",
       "    <tr>\n",
       "      <th>210958</th>\n",
       "      <td>2016</td>\n",
       "      <td>1</td>\n",
       "      <td>215101</td>\n",
       "      <td>124</td>\n",
       "      <td>california</td>\n",
       "      <td>households under 1970 definition</td>\n",
       "      <td>2</td>\n",
       "      <td>123</td>\n",
       "      <td>female</td>\n",
       "      <td>26</td>\n",
       "      <td>india</td>\n",
       "      <td>india</td>\n",
       "      <td>not a citizen</td>\n",
       "      <td>0-5 years</td>\n",
       "      <td>5+ years of college</td>\n",
       "      <td>master's degree</td>\n",
       "    </tr>\n",
       "    <tr>\n",
       "      <th>210961</th>\n",
       "      <td>2016</td>\n",
       "      <td>1</td>\n",
       "      <td>215149</td>\n",
       "      <td>85</td>\n",
       "      <td>california</td>\n",
       "      <td>households under 1970 definition</td>\n",
       "      <td>1</td>\n",
       "      <td>85</td>\n",
       "      <td>male</td>\n",
       "      <td>32</td>\n",
       "      <td>other ussr/russia</td>\n",
       "      <td>other ussr/russia</td>\n",
       "      <td>not a citizen</td>\n",
       "      <td>0-5 years</td>\n",
       "      <td>5+ years of college</td>\n",
       "      <td>master's degree</td>\n",
       "    </tr>\n",
       "    <tr>\n",
       "      <th>210962</th>\n",
       "      <td>2016</td>\n",
       "      <td>1</td>\n",
       "      <td>215149</td>\n",
       "      <td>85</td>\n",
       "      <td>california</td>\n",
       "      <td>households under 1970 definition</td>\n",
       "      <td>2</td>\n",
       "      <td>128</td>\n",
       "      <td>female</td>\n",
       "      <td>32</td>\n",
       "      <td>other ussr/russia</td>\n",
       "      <td>other ussr/russia</td>\n",
       "      <td>not a citizen</td>\n",
       "      <td>0-5 years</td>\n",
       "      <td>5+ years of college</td>\n",
       "      <td>master's degree</td>\n",
       "    </tr>\n",
       "    <tr>\n",
       "      <th>210964</th>\n",
       "      <td>2016</td>\n",
       "      <td>1</td>\n",
       "      <td>215169</td>\n",
       "      <td>90</td>\n",
       "      <td>california</td>\n",
       "      <td>households under 1970 definition</td>\n",
       "      <td>1</td>\n",
       "      <td>90</td>\n",
       "      <td>male</td>\n",
       "      <td>32</td>\n",
       "      <td>australia and new zealand</td>\n",
       "      <td>australia</td>\n",
       "      <td>not a citizen</td>\n",
       "      <td>0-5 years</td>\n",
       "      <td>5+ years of college</td>\n",
       "      <td>master's degree</td>\n",
       "    </tr>\n",
       "    <tr>\n",
       "      <th>210967</th>\n",
       "      <td>2016</td>\n",
       "      <td>1</td>\n",
       "      <td>215185</td>\n",
       "      <td>71</td>\n",
       "      <td>california</td>\n",
       "      <td>households under 1970 definition</td>\n",
       "      <td>1</td>\n",
       "      <td>71</td>\n",
       "      <td>male</td>\n",
       "      <td>29</td>\n",
       "      <td>india</td>\n",
       "      <td>india</td>\n",
       "      <td>not a citizen</td>\n",
       "      <td>0-5 years</td>\n",
       "      <td>5+ years of college</td>\n",
       "      <td>master's degree</td>\n",
       "    </tr>\n",
       "    <tr>\n",
       "      <th>210968</th>\n",
       "      <td>2016</td>\n",
       "      <td>1</td>\n",
       "      <td>215185</td>\n",
       "      <td>71</td>\n",
       "      <td>california</td>\n",
       "      <td>households under 1970 definition</td>\n",
       "      <td>2</td>\n",
       "      <td>79</td>\n",
       "      <td>female</td>\n",
       "      <td>28</td>\n",
       "      <td>india</td>\n",
       "      <td>india</td>\n",
       "      <td>not a citizen</td>\n",
       "      <td>0-5 years</td>\n",
       "      <td>5+ years of college</td>\n",
       "      <td>master's degree</td>\n",
       "    </tr>\n",
       "    <tr>\n",
       "      <th>210970</th>\n",
       "      <td>2016</td>\n",
       "      <td>1</td>\n",
       "      <td>215220</td>\n",
       "      <td>96</td>\n",
       "      <td>california</td>\n",
       "      <td>households under 1970 definition</td>\n",
       "      <td>2</td>\n",
       "      <td>77</td>\n",
       "      <td>female</td>\n",
       "      <td>29</td>\n",
       "      <td>other ussr/russia</td>\n",
       "      <td>ukraine</td>\n",
       "      <td>not a citizen</td>\n",
       "      <td>0-5 years</td>\n",
       "      <td>4 years of college</td>\n",
       "      <td>bachelor's degree</td>\n",
       "    </tr>\n",
       "    <tr>\n",
       "      <th>210973</th>\n",
       "      <td>2016</td>\n",
       "      <td>1</td>\n",
       "      <td>215252</td>\n",
       "      <td>100</td>\n",
       "      <td>california</td>\n",
       "      <td>households under 1970 definition</td>\n",
       "      <td>3</td>\n",
       "      <td>143</td>\n",
       "      <td>female</td>\n",
       "      <td>26</td>\n",
       "      <td>mexico</td>\n",
       "      <td>mexico</td>\n",
       "      <td>not a citizen</td>\n",
       "      <td>0-5 years</td>\n",
       "      <td>4 years of college</td>\n",
       "      <td>bachelor's degree</td>\n",
       "    </tr>\n",
       "    <tr>\n",
       "      <th>210974</th>\n",
       "      <td>2016</td>\n",
       "      <td>1</td>\n",
       "      <td>215252</td>\n",
       "      <td>100</td>\n",
       "      <td>california</td>\n",
       "      <td>households under 1970 definition</td>\n",
       "      <td>6</td>\n",
       "      <td>266</td>\n",
       "      <td>male</td>\n",
       "      <td>28</td>\n",
       "      <td>mexico</td>\n",
       "      <td>mexico</td>\n",
       "      <td>not a citizen</td>\n",
       "      <td>0-5 years</td>\n",
       "      <td>4 years of college</td>\n",
       "      <td>bachelor's degree</td>\n",
       "    </tr>\n",
       "    <tr>\n",
       "      <th>210975</th>\n",
       "      <td>2016</td>\n",
       "      <td>1</td>\n",
       "      <td>215344</td>\n",
       "      <td>109</td>\n",
       "      <td>california</td>\n",
       "      <td>households under 1970 definition</td>\n",
       "      <td>1</td>\n",
       "      <td>109</td>\n",
       "      <td>female</td>\n",
       "      <td>35</td>\n",
       "      <td>japan</td>\n",
       "      <td>japan</td>\n",
       "      <td>not a citizen</td>\n",
       "      <td>0-5 years</td>\n",
       "      <td>4 years of college</td>\n",
       "      <td>bachelor's degree</td>\n",
       "    </tr>\n",
       "    <tr>\n",
       "      <th>210976</th>\n",
       "      <td>2016</td>\n",
       "      <td>1</td>\n",
       "      <td>215369</td>\n",
       "      <td>67</td>\n",
       "      <td>california</td>\n",
       "      <td>households under 1970 definition</td>\n",
       "      <td>1</td>\n",
       "      <td>67</td>\n",
       "      <td>female</td>\n",
       "      <td>39</td>\n",
       "      <td>china</td>\n",
       "      <td>china</td>\n",
       "      <td>not a citizen</td>\n",
       "      <td>0-5 years</td>\n",
       "      <td>5+ years of college</td>\n",
       "      <td>master's degree</td>\n",
       "    </tr>\n",
       "    <tr>\n",
       "      <th>210977</th>\n",
       "      <td>2016</td>\n",
       "      <td>1</td>\n",
       "      <td>215427</td>\n",
       "      <td>53</td>\n",
       "      <td>california</td>\n",
       "      <td>households under 1970 definition</td>\n",
       "      <td>3</td>\n",
       "      <td>119</td>\n",
       "      <td>male</td>\n",
       "      <td>28</td>\n",
       "      <td>africa</td>\n",
       "      <td>nigeria</td>\n",
       "      <td>not a citizen</td>\n",
       "      <td>0-5 years</td>\n",
       "      <td>4 years of college</td>\n",
       "      <td>bachelor's degree</td>\n",
       "    </tr>\n",
       "    <tr>\n",
       "      <th>210978</th>\n",
       "      <td>2016</td>\n",
       "      <td>1</td>\n",
       "      <td>215427</td>\n",
       "      <td>53</td>\n",
       "      <td>california</td>\n",
       "      <td>households under 1970 definition</td>\n",
       "      <td>4</td>\n",
       "      <td>100</td>\n",
       "      <td>male</td>\n",
       "      <td>24</td>\n",
       "      <td>china</td>\n",
       "      <td>china</td>\n",
       "      <td>not a citizen</td>\n",
       "      <td>0-5 years</td>\n",
       "      <td>4 years of college</td>\n",
       "      <td>bachelor's degree</td>\n",
       "    </tr>\n",
       "    <tr>\n",
       "      <th>210979</th>\n",
       "      <td>2016</td>\n",
       "      <td>1</td>\n",
       "      <td>215427</td>\n",
       "      <td>53</td>\n",
       "      <td>california</td>\n",
       "      <td>households under 1970 definition</td>\n",
       "      <td>5</td>\n",
       "      <td>103</td>\n",
       "      <td>female</td>\n",
       "      <td>24</td>\n",
       "      <td>africa</td>\n",
       "      <td>kenya</td>\n",
       "      <td>not a citizen</td>\n",
       "      <td>0-5 years</td>\n",
       "      <td>4 years of college</td>\n",
       "      <td>bachelor's degree</td>\n",
       "    </tr>\n",
       "    <tr>\n",
       "      <th>210980</th>\n",
       "      <td>2016</td>\n",
       "      <td>1</td>\n",
       "      <td>215427</td>\n",
       "      <td>53</td>\n",
       "      <td>california</td>\n",
       "      <td>households under 1970 definition</td>\n",
       "      <td>6</td>\n",
       "      <td>114</td>\n",
       "      <td>female</td>\n",
       "      <td>33</td>\n",
       "      <td>africa</td>\n",
       "      <td>kenya</td>\n",
       "      <td>not a citizen</td>\n",
       "      <td>0-5 years</td>\n",
       "      <td>4 years of college</td>\n",
       "      <td>bachelor's degree</td>\n",
       "    </tr>\n",
       "    <tr>\n",
       "      <th>210981</th>\n",
       "      <td>2016</td>\n",
       "      <td>1</td>\n",
       "      <td>215455</td>\n",
       "      <td>101</td>\n",
       "      <td>california</td>\n",
       "      <td>households under 1970 definition</td>\n",
       "      <td>4</td>\n",
       "      <td>114</td>\n",
       "      <td>female</td>\n",
       "      <td>65</td>\n",
       "      <td>philippines</td>\n",
       "      <td>philippines</td>\n",
       "      <td>not a citizen</td>\n",
       "      <td>0-5 years</td>\n",
       "      <td>4 years of college</td>\n",
       "      <td>bachelor's degree</td>\n",
       "    </tr>\n",
       "    <tr>\n",
       "      <th>210982</th>\n",
       "      <td>2016</td>\n",
       "      <td>1</td>\n",
       "      <td>215487</td>\n",
       "      <td>67</td>\n",
       "      <td>california</td>\n",
       "      <td>households under 1970 definition</td>\n",
       "      <td>2</td>\n",
       "      <td>80</td>\n",
       "      <td>female</td>\n",
       "      <td>35</td>\n",
       "      <td>iran</td>\n",
       "      <td>iran</td>\n",
       "      <td>naturalized citizen</td>\n",
       "      <td>0-5 years</td>\n",
       "      <td>4 years of college</td>\n",
       "      <td>bachelor's degree</td>\n",
       "    </tr>\n",
       "    <tr>\n",
       "      <th>210983</th>\n",
       "      <td>2016</td>\n",
       "      <td>1</td>\n",
       "      <td>215515</td>\n",
       "      <td>161</td>\n",
       "      <td>california</td>\n",
       "      <td>households under 1970 definition</td>\n",
       "      <td>2</td>\n",
       "      <td>126</td>\n",
       "      <td>female</td>\n",
       "      <td>42</td>\n",
       "      <td>korea</td>\n",
       "      <td>korea</td>\n",
       "      <td>not a citizen</td>\n",
       "      <td>0-5 years</td>\n",
       "      <td>4 years of college</td>\n",
       "      <td>bachelor's degree</td>\n",
       "    </tr>\n",
       "    <tr>\n",
       "      <th>210985</th>\n",
       "      <td>2016</td>\n",
       "      <td>1</td>\n",
       "      <td>215622</td>\n",
       "      <td>179</td>\n",
       "      <td>california</td>\n",
       "      <td>households under 1970 definition</td>\n",
       "      <td>2</td>\n",
       "      <td>150</td>\n",
       "      <td>male</td>\n",
       "      <td>24</td>\n",
       "      <td>india</td>\n",
       "      <td>india</td>\n",
       "      <td>not a citizen</td>\n",
       "      <td>0-5 years</td>\n",
       "      <td>4 years of college</td>\n",
       "      <td>bachelor's degree</td>\n",
       "    </tr>\n",
       "    <tr>\n",
       "      <th>210986</th>\n",
       "      <td>2016</td>\n",
       "      <td>1</td>\n",
       "      <td>215622</td>\n",
       "      <td>179</td>\n",
       "      <td>california</td>\n",
       "      <td>households under 1970 definition</td>\n",
       "      <td>3</td>\n",
       "      <td>151</td>\n",
       "      <td>male</td>\n",
       "      <td>21</td>\n",
       "      <td>india</td>\n",
       "      <td>india</td>\n",
       "      <td>not a citizen</td>\n",
       "      <td>0-5 years</td>\n",
       "      <td>4 years of college</td>\n",
       "      <td>bachelor's degree</td>\n",
       "    </tr>\n",
       "    <tr>\n",
       "      <th>210991</th>\n",
       "      <td>2016</td>\n",
       "      <td>1</td>\n",
       "      <td>215723</td>\n",
       "      <td>31</td>\n",
       "      <td>california</td>\n",
       "      <td>households under 1970 definition</td>\n",
       "      <td>5</td>\n",
       "      <td>46</td>\n",
       "      <td>female</td>\n",
       "      <td>23</td>\n",
       "      <td>vietnam</td>\n",
       "      <td>vietnam</td>\n",
       "      <td>not a citizen</td>\n",
       "      <td>0-5 years</td>\n",
       "      <td>4 years of college</td>\n",
       "      <td>bachelor's degree</td>\n",
       "    </tr>\n",
       "    <tr>\n",
       "      <th>210992</th>\n",
       "      <td>2016</td>\n",
       "      <td>1</td>\n",
       "      <td>215728</td>\n",
       "      <td>216</td>\n",
       "      <td>california</td>\n",
       "      <td>households under 1970 definition</td>\n",
       "      <td>7</td>\n",
       "      <td>264</td>\n",
       "      <td>female</td>\n",
       "      <td>29</td>\n",
       "      <td>philippines</td>\n",
       "      <td>philippines</td>\n",
       "      <td>not a citizen</td>\n",
       "      <td>0-5 years</td>\n",
       "      <td>4 years of college</td>\n",
       "      <td>bachelor's degree</td>\n",
       "    </tr>\n",
       "    <tr>\n",
       "      <th>210994</th>\n",
       "      <td>2016</td>\n",
       "      <td>1</td>\n",
       "      <td>215756</td>\n",
       "      <td>105</td>\n",
       "      <td>california</td>\n",
       "      <td>households under 1970 definition</td>\n",
       "      <td>1</td>\n",
       "      <td>106</td>\n",
       "      <td>male</td>\n",
       "      <td>35</td>\n",
       "      <td>india</td>\n",
       "      <td>india</td>\n",
       "      <td>not a citizen</td>\n",
       "      <td>0-5 years</td>\n",
       "      <td>4 years of college</td>\n",
       "      <td>bachelor's degree</td>\n",
       "    </tr>\n",
       "    <tr>\n",
       "      <th>210995</th>\n",
       "      <td>2016</td>\n",
       "      <td>1</td>\n",
       "      <td>215756</td>\n",
       "      <td>105</td>\n",
       "      <td>california</td>\n",
       "      <td>households under 1970 definition</td>\n",
       "      <td>2</td>\n",
       "      <td>106</td>\n",
       "      <td>female</td>\n",
       "      <td>33</td>\n",
       "      <td>india</td>\n",
       "      <td>india</td>\n",
       "      <td>not a citizen</td>\n",
       "      <td>0-5 years</td>\n",
       "      <td>5+ years of college</td>\n",
       "      <td>master's degree</td>\n",
       "    </tr>\n",
       "    <tr>\n",
       "      <th>210996</th>\n",
       "      <td>2016</td>\n",
       "      <td>1</td>\n",
       "      <td>215776</td>\n",
       "      <td>254</td>\n",
       "      <td>california</td>\n",
       "      <td>households under 1970 definition</td>\n",
       "      <td>5</td>\n",
       "      <td>332</td>\n",
       "      <td>male</td>\n",
       "      <td>46</td>\n",
       "      <td>thailand</td>\n",
       "      <td>thailand</td>\n",
       "      <td>not a citizen</td>\n",
       "      <td>0-5 years</td>\n",
       "      <td>4 years of college</td>\n",
       "      <td>bachelor's degree</td>\n",
       "    </tr>\n",
       "    <tr>\n",
       "      <th>210998</th>\n",
       "      <td>2016</td>\n",
       "      <td>1</td>\n",
       "      <td>215843</td>\n",
       "      <td>69</td>\n",
       "      <td>california</td>\n",
       "      <td>households under 1970 definition</td>\n",
       "      <td>1</td>\n",
       "      <td>69</td>\n",
       "      <td>male</td>\n",
       "      <td>55</td>\n",
       "      <td>philippines</td>\n",
       "      <td>philippines</td>\n",
       "      <td>not a citizen</td>\n",
       "      <td>0-5 years</td>\n",
       "      <td>5+ years of college</td>\n",
       "      <td>master's degree</td>\n",
       "    </tr>\n",
       "    <tr>\n",
       "      <th>210999</th>\n",
       "      <td>2016</td>\n",
       "      <td>1</td>\n",
       "      <td>215843</td>\n",
       "      <td>69</td>\n",
       "      <td>california</td>\n",
       "      <td>households under 1970 definition</td>\n",
       "      <td>2</td>\n",
       "      <td>47</td>\n",
       "      <td>female</td>\n",
       "      <td>56</td>\n",
       "      <td>philippines</td>\n",
       "      <td>philippines</td>\n",
       "      <td>not a citizen</td>\n",
       "      <td>0-5 years</td>\n",
       "      <td>4 years of college</td>\n",
       "      <td>bachelor's degree</td>\n",
       "    </tr>\n",
       "    <tr>\n",
       "      <th>211000</th>\n",
       "      <td>2016</td>\n",
       "      <td>1</td>\n",
       "      <td>215874</td>\n",
       "      <td>56</td>\n",
       "      <td>california</td>\n",
       "      <td>households under 1970 definition</td>\n",
       "      <td>2</td>\n",
       "      <td>79</td>\n",
       "      <td>male</td>\n",
       "      <td>36</td>\n",
       "      <td>cambodia (kampuchea)</td>\n",
       "      <td>cambodia (kampuchea)</td>\n",
       "      <td>naturalized citizen</td>\n",
       "      <td>0-5 years</td>\n",
       "      <td>4 years of college</td>\n",
       "      <td>bachelor's degree</td>\n",
       "    </tr>\n",
       "  </tbody>\n",
       "</table>\n",
       "<p>53706 rows × 16 columns</p>\n",
       "</div>"
      ],
      "text/plain": [
       "        year  datanum  serial  hhwt    statefip  \\\n",
       "3       1980        1  192264    20  california   \n",
       "7       1980        1  192542    20  california   \n",
       "8       1980        1  192542    20  california   \n",
       "21      1980        1  193832    20  california   \n",
       "35      1980        1  195093    20  california   \n",
       "36      1980        1  195111    20  california   \n",
       "38      1980        1  195337    20  california   \n",
       "39      1980        1  195337    20  california   \n",
       "68      1980        1  196453    20  california   \n",
       "72      1980        1  196860    20  california   \n",
       "83      1980        1  198145    20  california   \n",
       "116     1980        1  203470    20  california   \n",
       "121     1980        1  203585    20  california   \n",
       "129     1980        1  203959    20  california   \n",
       "136     1980        1  204305    20  california   \n",
       "146     1980        1  204649    20  california   \n",
       "156     1980        1  204987    20  california   \n",
       "175     1980        1  206062    20  california   \n",
       "190     1980        1  207004    20  california   \n",
       "191     1980        1  207020    20  california   \n",
       "209     1980        1  207697    20  california   \n",
       "234     1980        1  208313    20  california   \n",
       "243     1980        1  208583    20  california   \n",
       "252     1980        1  208698    20  california   \n",
       "275     1980        1  209163    20  california   \n",
       "289     1980        1  209358    20  california   \n",
       "294     1980        1  209818    20  california   \n",
       "304     1980        1  210536    20  california   \n",
       "306     1980        1  210790    20  california   \n",
       "308     1980        1  210928    20  california   \n",
       "...      ...      ...     ...   ...         ...   \n",
       "210953  2016        1  215076    66  california   \n",
       "210957  2016        1  215101   124  california   \n",
       "210958  2016        1  215101   124  california   \n",
       "210961  2016        1  215149    85  california   \n",
       "210962  2016        1  215149    85  california   \n",
       "210964  2016        1  215169    90  california   \n",
       "210967  2016        1  215185    71  california   \n",
       "210968  2016        1  215185    71  california   \n",
       "210970  2016        1  215220    96  california   \n",
       "210973  2016        1  215252   100  california   \n",
       "210974  2016        1  215252   100  california   \n",
       "210975  2016        1  215344   109  california   \n",
       "210976  2016        1  215369    67  california   \n",
       "210977  2016        1  215427    53  california   \n",
       "210978  2016        1  215427    53  california   \n",
       "210979  2016        1  215427    53  california   \n",
       "210980  2016        1  215427    53  california   \n",
       "210981  2016        1  215455   101  california   \n",
       "210982  2016        1  215487    67  california   \n",
       "210983  2016        1  215515   161  california   \n",
       "210985  2016        1  215622   179  california   \n",
       "210986  2016        1  215622   179  california   \n",
       "210991  2016        1  215723    31  california   \n",
       "210992  2016        1  215728   216  california   \n",
       "210994  2016        1  215756   105  california   \n",
       "210995  2016        1  215756   105  california   \n",
       "210996  2016        1  215776   254  california   \n",
       "210998  2016        1  215843    69  california   \n",
       "210999  2016        1  215843    69  california   \n",
       "211000  2016        1  215874    56  california   \n",
       "\n",
       "                                      gq  pernum  perwt     sex age  \\\n",
       "3       households under 1970 definition       1     20    male  33   \n",
       "7       households under 1970 definition       1     20    male  30   \n",
       "8       households under 1970 definition       2     20  female  27   \n",
       "21      households under 1970 definition       2     20    male  25   \n",
       "35      households under 1970 definition       1     20    male  33   \n",
       "36      households under 1970 definition       1     20    male  49   \n",
       "38      households under 1970 definition       1     20    male  50   \n",
       "39      households under 1970 definition       2     20  female  43   \n",
       "68      households under 1970 definition       2     20    male  38   \n",
       "72      households under 1970 definition       2     20    male  35   \n",
       "83      households under 1970 definition       3     20    male  24   \n",
       "116     households under 1970 definition       1     20    male  38   \n",
       "121     households under 1970 definition       1     20    male  33   \n",
       "129     households under 1970 definition       2     20  female  25   \n",
       "136     households under 1970 definition       1     20    male  25   \n",
       "146     households under 1970 definition       1     20    male  39   \n",
       "156     households under 1970 definition       1     20    male  29   \n",
       "175     households under 1970 definition       2     20    male  30   \n",
       "190     households under 1970 definition       1     20    male  41   \n",
       "191     households under 1970 definition       1     20    male  24   \n",
       "209     households under 1970 definition       1     20    male  26   \n",
       "234     households under 1970 definition       1     20    male  25   \n",
       "243     households under 1970 definition       1     20    male  64   \n",
       "252                 other group quarters       1     20    male  26   \n",
       "275     households under 1970 definition       1     20    male  28   \n",
       "289     households under 1970 definition       2     20  female  24   \n",
       "294     households under 1970 definition       3     20    male  24   \n",
       "304     households under 1970 definition       4     20  female  57   \n",
       "306     households under 1970 definition       2     20  female  25   \n",
       "308     households under 1970 definition       1     20    male  52   \n",
       "...                                  ...     ...    ...     ...  ..   \n",
       "210953  households under 1970 definition       2     45  female  33   \n",
       "210957  households under 1970 definition       1    125    male  26   \n",
       "210958  households under 1970 definition       2    123  female  26   \n",
       "210961  households under 1970 definition       1     85    male  32   \n",
       "210962  households under 1970 definition       2    128  female  32   \n",
       "210964  households under 1970 definition       1     90    male  32   \n",
       "210967  households under 1970 definition       1     71    male  29   \n",
       "210968  households under 1970 definition       2     79  female  28   \n",
       "210970  households under 1970 definition       2     77  female  29   \n",
       "210973  households under 1970 definition       3    143  female  26   \n",
       "210974  households under 1970 definition       6    266    male  28   \n",
       "210975  households under 1970 definition       1    109  female  35   \n",
       "210976  households under 1970 definition       1     67  female  39   \n",
       "210977  households under 1970 definition       3    119    male  28   \n",
       "210978  households under 1970 definition       4    100    male  24   \n",
       "210979  households under 1970 definition       5    103  female  24   \n",
       "210980  households under 1970 definition       6    114  female  33   \n",
       "210981  households under 1970 definition       4    114  female  65   \n",
       "210982  households under 1970 definition       2     80  female  35   \n",
       "210983  households under 1970 definition       2    126  female  42   \n",
       "210985  households under 1970 definition       2    150    male  24   \n",
       "210986  households under 1970 definition       3    151    male  21   \n",
       "210991  households under 1970 definition       5     46  female  23   \n",
       "210992  households under 1970 definition       7    264  female  29   \n",
       "210994  households under 1970 definition       1    106    male  35   \n",
       "210995  households under 1970 definition       2    106  female  33   \n",
       "210996  households under 1970 definition       5    332    male  46   \n",
       "210998  households under 1970 definition       1     69    male  55   \n",
       "210999  households under 1970 definition       2     47  female  56   \n",
       "211000  households under 1970 definition       2     79    male  36   \n",
       "\n",
       "                               bpl                  bpld              citizen  \\\n",
       "3                    south america             venezuela        not a citizen   \n",
       "7                    south america             venezuela        not a citizen   \n",
       "8                    south america             venezuela        not a citizen   \n",
       "21                    saudi arabia          saudi arabia        not a citizen   \n",
       "35                          canada                canada        not a citizen   \n",
       "36                           china                 china        not a citizen   \n",
       "38                     philippines           philippines        not a citizen   \n",
       "39                     philippines           philippines        not a citizen   \n",
       "68                           syria                 syria        not a citizen   \n",
       "72                           india                 india        not a citizen   \n",
       "83                           india                 india        not a citizen   \n",
       "116                        vietnam               vietnam        not a citizen   \n",
       "121                           iran                  iran        not a citizen   \n",
       "129      australia and new zealand             australia        not a citizen   \n",
       "136                pacific islands        micronesia, ns        not a citizen   \n",
       "146                          china                 china        not a citizen   \n",
       "156      australia and new zealand             australia        not a citizen   \n",
       "175                        england               england        not a citizen   \n",
       "190                          india                 india        not a citizen   \n",
       "191                        denmark               denmark        not a citizen   \n",
       "209                          india                 india        not a citizen   \n",
       "234                         canada                canada        not a citizen   \n",
       "243                    philippines           philippines        not a citizen   \n",
       "252                central america                panama        not a citizen   \n",
       "275     abroad (unknown) or at sea            abroad, ns        not a citizen   \n",
       "289                         mexico                mexico        not a citizen   \n",
       "294                         mexico                mexico        not a citizen   \n",
       "304                    philippines           philippines        not a citizen   \n",
       "306                    philippines           philippines        not a citizen   \n",
       "308                    philippines           philippines        not a citizen   \n",
       "...                            ...                   ...                  ...   \n",
       "210953                     vietnam               vietnam        not a citizen   \n",
       "210957                       india                 india        not a citizen   \n",
       "210958                       india                 india        not a citizen   \n",
       "210961           other ussr/russia     other ussr/russia        not a citizen   \n",
       "210962           other ussr/russia     other ussr/russia        not a citizen   \n",
       "210964   australia and new zealand             australia        not a citizen   \n",
       "210967                       india                 india        not a citizen   \n",
       "210968                       india                 india        not a citizen   \n",
       "210970           other ussr/russia               ukraine        not a citizen   \n",
       "210973                      mexico                mexico        not a citizen   \n",
       "210974                      mexico                mexico        not a citizen   \n",
       "210975                       japan                 japan        not a citizen   \n",
       "210976                       china                 china        not a citizen   \n",
       "210977                      africa               nigeria        not a citizen   \n",
       "210978                       china                 china        not a citizen   \n",
       "210979                      africa                 kenya        not a citizen   \n",
       "210980                      africa                 kenya        not a citizen   \n",
       "210981                 philippines           philippines        not a citizen   \n",
       "210982                        iran                  iran  naturalized citizen   \n",
       "210983                       korea                 korea        not a citizen   \n",
       "210985                       india                 india        not a citizen   \n",
       "210986                       india                 india        not a citizen   \n",
       "210991                     vietnam               vietnam        not a citizen   \n",
       "210992                 philippines           philippines        not a citizen   \n",
       "210994                       india                 india        not a citizen   \n",
       "210995                       india                 india        not a citizen   \n",
       "210996                    thailand              thailand        not a citizen   \n",
       "210998                 philippines           philippines        not a citizen   \n",
       "210999                 philippines           philippines        not a citizen   \n",
       "211000        cambodia (kampuchea)  cambodia (kampuchea)  naturalized citizen   \n",
       "\n",
       "          yrsusa2                 educ                                 educd  \n",
       "3       0-5 years   4 years of college                    4 years of college  \n",
       "7       0-5 years   4 years of college                    4 years of college  \n",
       "8       0-5 years   4 years of college                    4 years of college  \n",
       "21      0-5 years  5+ years of college                   5+ years of college  \n",
       "35      0-5 years  5+ years of college  6 years of college (6+ in 1960-1970)  \n",
       "36      0-5 years   4 years of college                    4 years of college  \n",
       "38      0-5 years   4 years of college                    4 years of college  \n",
       "39      0-5 years   4 years of college                    4 years of college  \n",
       "68      0-5 years  5+ years of college  6 years of college (6+ in 1960-1970)  \n",
       "72      0-5 years  5+ years of college                   5+ years of college  \n",
       "83      0-5 years  5+ years of college                   8+ years of college  \n",
       "116     0-5 years   4 years of college                    4 years of college  \n",
       "121     0-5 years  5+ years of college                    7 years of college  \n",
       "129     0-5 years   4 years of college                    4 years of college  \n",
       "136     0-5 years   4 years of college                    4 years of college  \n",
       "146     0-5 years  5+ years of college  6 years of college (6+ in 1960-1970)  \n",
       "156     0-5 years  5+ years of college                   8+ years of college  \n",
       "175     0-5 years  5+ years of college                   5+ years of college  \n",
       "190     0-5 years   4 years of college                    4 years of college  \n",
       "191     0-5 years   4 years of college                    4 years of college  \n",
       "209     0-5 years   4 years of college                    4 years of college  \n",
       "234     0-5 years   4 years of college                    4 years of college  \n",
       "243     0-5 years  5+ years of college                   8+ years of college  \n",
       "252     0-5 years   4 years of college                    4 years of college  \n",
       "275     0-5 years   4 years of college                    4 years of college  \n",
       "289     0-5 years  5+ years of college                   5+ years of college  \n",
       "294     0-5 years   4 years of college                    4 years of college  \n",
       "304     0-5 years   4 years of college                    4 years of college  \n",
       "306     0-5 years   4 years of college                    4 years of college  \n",
       "308     0-5 years  5+ years of college                   8+ years of college  \n",
       "...           ...                  ...                                   ...  \n",
       "210953  0-5 years   4 years of college                     bachelor's degree  \n",
       "210957  0-5 years  5+ years of college                       master's degree  \n",
       "210958  0-5 years  5+ years of college                       master's degree  \n",
       "210961  0-5 years  5+ years of college                       master's degree  \n",
       "210962  0-5 years  5+ years of college                       master's degree  \n",
       "210964  0-5 years  5+ years of college                       master's degree  \n",
       "210967  0-5 years  5+ years of college                       master's degree  \n",
       "210968  0-5 years  5+ years of college                       master's degree  \n",
       "210970  0-5 years   4 years of college                     bachelor's degree  \n",
       "210973  0-5 years   4 years of college                     bachelor's degree  \n",
       "210974  0-5 years   4 years of college                     bachelor's degree  \n",
       "210975  0-5 years   4 years of college                     bachelor's degree  \n",
       "210976  0-5 years  5+ years of college                       master's degree  \n",
       "210977  0-5 years   4 years of college                     bachelor's degree  \n",
       "210978  0-5 years   4 years of college                     bachelor's degree  \n",
       "210979  0-5 years   4 years of college                     bachelor's degree  \n",
       "210980  0-5 years   4 years of college                     bachelor's degree  \n",
       "210981  0-5 years   4 years of college                     bachelor's degree  \n",
       "210982  0-5 years   4 years of college                     bachelor's degree  \n",
       "210983  0-5 years   4 years of college                     bachelor's degree  \n",
       "210985  0-5 years   4 years of college                     bachelor's degree  \n",
       "210986  0-5 years   4 years of college                     bachelor's degree  \n",
       "210991  0-5 years   4 years of college                     bachelor's degree  \n",
       "210992  0-5 years   4 years of college                     bachelor's degree  \n",
       "210994  0-5 years   4 years of college                     bachelor's degree  \n",
       "210995  0-5 years  5+ years of college                       master's degree  \n",
       "210996  0-5 years   4 years of college                     bachelor's degree  \n",
       "210998  0-5 years  5+ years of college                       master's degree  \n",
       "210999  0-5 years   4 years of college                     bachelor's degree  \n",
       "211000  0-5 years   4 years of college                     bachelor's degree  \n",
       "\n",
       "[53706 rows x 16 columns]"
      ]
     },
     "execution_count": 16,
     "metadata": {},
     "output_type": "execute_result"
    }
   ],
   "source": [
    "df[df['educd'] >= '4 years of college']"
   ]
  },
  {
   "cell_type": "code",
   "execution_count": 36,
   "metadata": {},
   "outputs": [],
   "source": [
    "df['agg educd 0'] = np.where(df['educd'] >= '4 years of college', 'BA or More', np.nan)\n",
    "df['agg educd 1'] = np.where(((df['educd'] >= 'high school graduate or ged') & (df['educd'] <= 'ged or alternative credential')), 'HS', df['agg educd 0'])\n",
    "df['agg educd 2'] = np.where(df['educd'] < 'high school graduate or ged', 'Less than HS', df['agg educd 1'])\n",
    "df['agg educd 3'] = np.where(((df['educd'] > 'ged or alternative credential') & (df['educd'] < '4 years of college')), 'Some College', df['agg educd 2']) \n",
    "\n",
    "df['agg educd'] = df['agg educd 3'].copy()\n",
    "\n",
    "df.drop(columns = ['agg educd 0', 'agg educd 1', 'agg educd 2', 'agg educd 3'], inplace = True)"
   ]
  },
  {
   "cell_type": "code",
   "execution_count": 38,
   "metadata": {},
   "outputs": [],
   "source": [
    "immig_educ = df.groupby(['year', 'bpld', 'agg educd',])['perwt'].sum().to_frame()\n",
    "immig = df.groupby(['year', 'bpld',])['perwt'].sum().to_frame()"
   ]
  },
  {
   "cell_type": "code",
   "execution_count": 64,
   "metadata": {},
   "outputs": [
    {
     "data": {
      "text/html": [
       "<div>\n",
       "<style scoped>\n",
       "    .dataframe tbody tr th:only-of-type {\n",
       "        vertical-align: middle;\n",
       "    }\n",
       "\n",
       "    .dataframe tbody tr th {\n",
       "        vertical-align: top;\n",
       "    }\n",
       "\n",
       "    .dataframe thead th {\n",
       "        text-align: right;\n",
       "    }\n",
       "</style>\n",
       "<table border=\"1\" class=\"dataframe\">\n",
       "  <thead>\n",
       "    <tr style=\"text-align: right;\">\n",
       "      <th></th>\n",
       "      <th>perwt</th>\n",
       "    </tr>\n",
       "    <tr>\n",
       "      <th>bpld</th>\n",
       "      <th></th>\n",
       "    </tr>\n",
       "  </thead>\n",
       "  <tbody>\n",
       "    <tr>\n",
       "      <th>china</th>\n",
       "      <td>146135.0</td>\n",
       "    </tr>\n",
       "    <tr>\n",
       "      <th>mexico</th>\n",
       "      <td>145667.0</td>\n",
       "    </tr>\n",
       "    <tr>\n",
       "      <th>india</th>\n",
       "      <td>117132.0</td>\n",
       "    </tr>\n",
       "    <tr>\n",
       "      <th>philippines</th>\n",
       "      <td>60819.0</td>\n",
       "    </tr>\n",
       "    <tr>\n",
       "      <th>vietnam</th>\n",
       "      <td>41446.0</td>\n",
       "    </tr>\n",
       "  </tbody>\n",
       "</table>\n",
       "</div>"
      ],
      "text/plain": [
       "                perwt\n",
       "bpld                 \n",
       "china        146135.0\n",
       "mexico       145667.0\n",
       "india        117132.0\n",
       "philippines   60819.0\n",
       "vietnam       41446.0"
      ]
     },
     "execution_count": 64,
     "metadata": {},
     "output_type": "execute_result"
    }
   ],
   "source": [
    "immig.xs('2016', level = 0).sort_values(by = 'perwt', ascending = False, ).head()"
   ]
  },
  {
   "cell_type": "code",
   "execution_count": 102,
   "metadata": {},
   "outputs": [
    {
     "data": {
      "application/vnd.vegalite.v2+json": {
       "$schema": "https://vega.github.io/schema/vega-lite/v2.json",
       "config": {
        "view": {
         "height": 300,
         "width": 400
        }
       },
       "hconcat": [
        {
         "vconcat": [
          {
           "data": {
            "values": [
             {
              "agg educd": "BA or More",
              "bpld": "china",
              "perwt": 5020,
              "year": "1980"
             },
             {
              "agg educd": "Less than HS",
              "bpld": "china",
              "perwt": 14360,
              "year": "1980"
             },
             {
              "agg educd": "Some College",
              "bpld": "china",
              "perwt": 5300,
              "year": "1980"
             },
             {
              "agg educd": "BA or More",
              "bpld": "china",
              "perwt": 10068,
              "year": "1990"
             },
             {
              "agg educd": "HS",
              "bpld": "china",
              "perwt": 9390,
              "year": "1990"
             },
             {
              "agg educd": "Less than HS",
              "bpld": "china",
              "perwt": 16709,
              "year": "1990"
             },
             {
              "agg educd": "Some College",
              "bpld": "china",
              "perwt": 8252,
              "year": "1990"
             },
             {
              "agg educd": "BA or More",
              "bpld": "china",
              "perwt": 19902,
              "year": "2000"
             },
             {
              "agg educd": "HS",
              "bpld": "china",
              "perwt": 12657,
              "year": "2000"
             },
             {
              "agg educd": "Less than HS",
              "bpld": "china",
              "perwt": 8313,
              "year": "2000"
             },
             {
              "agg educd": "Some College",
              "bpld": "china",
              "perwt": 11268,
              "year": "2000"
             },
             {
              "agg educd": "BA or More",
              "bpld": "china",
              "perwt": 28258,
              "year": "2001"
             },
             {
              "agg educd": "HS",
              "bpld": "china",
              "perwt": 16946,
              "year": "2001"
             },
             {
              "agg educd": "Less than HS",
              "bpld": "china",
              "perwt": 7397,
              "year": "2001"
             },
             {
              "agg educd": "Some College",
              "bpld": "china",
              "perwt": 10739,
              "year": "2001"
             },
             {
              "agg educd": "BA or More",
              "bpld": "china",
              "perwt": 30729,
              "year": "2002"
             },
             {
              "agg educd": "HS",
              "bpld": "china",
              "perwt": 6650,
              "year": "2002"
             },
             {
              "agg educd": "Less than HS",
              "bpld": "china",
              "perwt": 12494,
              "year": "2002"
             },
             {
              "agg educd": "Some College",
              "bpld": "china",
              "perwt": 9972,
              "year": "2002"
             },
             {
              "agg educd": "BA or More",
              "bpld": "china",
              "perwt": 22316,
              "year": "2003"
             },
             {
              "agg educd": "HS",
              "bpld": "china",
              "perwt": 11710,
              "year": "2003"
             },
             {
              "agg educd": "Less than HS",
              "bpld": "china",
              "perwt": 10580,
              "year": "2003"
             },
             {
              "agg educd": "Some College",
              "bpld": "china",
              "perwt": 9136,
              "year": "2003"
             },
             {
              "agg educd": "BA or More",
              "bpld": "china",
              "perwt": 23559,
              "year": "2004"
             },
             {
              "agg educd": "HS",
              "bpld": "china",
              "perwt": 12194,
              "year": "2004"
             },
             {
              "agg educd": "Less than HS",
              "bpld": "china",
              "perwt": 11935,
              "year": "2004"
             },
             {
              "agg educd": "Some College",
              "bpld": "china",
              "perwt": 9584,
              "year": "2004"
             },
             {
              "agg educd": "BA or More",
              "bpld": "china",
              "perwt": 20127,
              "year": "2005"
             },
             {
              "agg educd": "HS",
              "bpld": "china",
              "perwt": 12269,
              "year": "2005"
             },
             {
              "agg educd": "Less than HS",
              "bpld": "china",
              "perwt": 7446,
              "year": "2005"
             },
             {
              "agg educd": "Some College",
              "bpld": "china",
              "perwt": 9053,
              "year": "2005"
             },
             {
              "agg educd": "BA or More",
              "bpld": "china",
              "perwt": 19553,
              "year": "2006"
             },
             {
              "agg educd": "HS",
              "bpld": "china",
              "perwt": 13759,
              "year": "2006"
             },
             {
              "agg educd": "Less than HS",
              "bpld": "china",
              "perwt": 11569,
              "year": "2006"
             },
             {
              "agg educd": "Some College",
              "bpld": "china",
              "perwt": 9558,
              "year": "2006"
             },
             {
              "agg educd": "BA or More",
              "bpld": "china",
              "perwt": 16031,
              "year": "2007"
             },
             {
              "agg educd": "HS",
              "bpld": "china",
              "perwt": 15531,
              "year": "2007"
             },
             {
              "agg educd": "Less than HS",
              "bpld": "china",
              "perwt": 11656,
              "year": "2007"
             },
             {
              "agg educd": "Some College",
              "bpld": "china",
              "perwt": 11911,
              "year": "2007"
             },
             {
              "agg educd": "BA or More",
              "bpld": "china",
              "perwt": 17619,
              "year": "2008"
             },
             {
              "agg educd": "HS",
              "bpld": "china",
              "perwt": 11490,
              "year": "2008"
             },
             {
              "agg educd": "Less than HS",
              "bpld": "china",
              "perwt": 8837,
              "year": "2008"
             },
             {
              "agg educd": "Some College",
              "bpld": "china",
              "perwt": 11775,
              "year": "2008"
             },
             {
              "agg educd": "BA or More",
              "bpld": "china",
              "perwt": 19776,
              "year": "2009"
             },
             {
              "agg educd": "HS",
              "bpld": "china",
              "perwt": 13967,
              "year": "2009"
             },
             {
              "agg educd": "Less than HS",
              "bpld": "china",
              "perwt": 10846,
              "year": "2009"
             },
             {
              "agg educd": "Some College",
              "bpld": "china",
              "perwt": 13981,
              "year": "2009"
             },
             {
              "agg educd": "BA or More",
              "bpld": "china",
              "perwt": 25700,
              "year": "2010"
             },
             {
              "agg educd": "HS",
              "bpld": "china",
              "perwt": 20437,
              "year": "2010"
             },
             {
              "agg educd": "Less than HS",
              "bpld": "china",
              "perwt": 17486,
              "year": "2010"
             },
             {
              "agg educd": "Some College",
              "bpld": "china",
              "perwt": 22326,
              "year": "2010"
             },
             {
              "agg educd": "BA or More",
              "bpld": "china",
              "perwt": 28308,
              "year": "2011"
             },
             {
              "agg educd": "HS",
              "bpld": "china",
              "perwt": 20489,
              "year": "2011"
             },
             {
              "agg educd": "Less than HS",
              "bpld": "china",
              "perwt": 12258,
              "year": "2011"
             },
             {
              "agg educd": "Some College",
              "bpld": "china",
              "perwt": 16624,
              "year": "2011"
             },
             {
              "agg educd": "BA or More",
              "bpld": "china",
              "perwt": 28366,
              "year": "2012"
             },
             {
              "agg educd": "HS",
              "bpld": "china",
              "perwt": 18965,
              "year": "2012"
             },
             {
              "agg educd": "Less than HS",
              "bpld": "china",
              "perwt": 11977,
              "year": "2012"
             },
             {
              "agg educd": "Some College",
              "bpld": "china",
              "perwt": 17867,
              "year": "2012"
             },
             {
              "agg educd": "BA or More",
              "bpld": "china",
              "perwt": 35423,
              "year": "2013"
             },
             {
              "agg educd": "HS",
              "bpld": "china",
              "perwt": 19437,
              "year": "2013"
             },
             {
              "agg educd": "Less than HS",
              "bpld": "china",
              "perwt": 13081,
              "year": "2013"
             },
             {
              "agg educd": "Some College",
              "bpld": "china",
              "perwt": 26703,
              "year": "2013"
             },
             {
              "agg educd": "BA or More",
              "bpld": "china",
              "perwt": 46857,
              "year": "2014"
             },
             {
              "agg educd": "HS",
              "bpld": "china",
              "perwt": 20847,
              "year": "2014"
             },
             {
              "agg educd": "Less than HS",
              "bpld": "china",
              "perwt": 14009,
              "year": "2014"
             },
             {
              "agg educd": "Some College",
              "bpld": "china",
              "perwt": 26350,
              "year": "2014"
             },
             {
              "agg educd": "BA or More",
              "bpld": "china",
              "perwt": 55237,
              "year": "2015"
             },
             {
              "agg educd": "HS",
              "bpld": "china",
              "perwt": 23565,
              "year": "2015"
             },
             {
              "agg educd": "Less than HS",
              "bpld": "china",
              "perwt": 17102,
              "year": "2015"
             },
             {
              "agg educd": "Some College",
              "bpld": "china",
              "perwt": 29093,
              "year": "2015"
             },
             {
              "agg educd": "BA or More",
              "bpld": "china",
              "perwt": 68932,
              "year": "2016"
             },
             {
              "agg educd": "HS",
              "bpld": "china",
              "perwt": 29213,
              "year": "2016"
             },
             {
              "agg educd": "Less than HS",
              "bpld": "china",
              "perwt": 15221,
              "year": "2016"
             },
             {
              "agg educd": "Some College",
              "bpld": "china",
              "perwt": 32769,
              "year": "2016"
             }
            ]
           },
           "encoding": {
            "color": {
             "field": "agg educd",
             "type": "nominal"
            },
            "x": {
             "field": "year",
             "scale": {
              "domain": {
               "selection": "selector010"
              }
             },
             "timeUnit": "year",
             "type": "temporal"
            },
            "y": {
             "field": "perwt",
             "type": "quantitative"
            }
           },
           "height": 400,
           "mark": "line",
           "title": "China",
           "width": 600
          },
          {
           "data": {
            "values": [
             {
              "agg educd": "BA or More",
              "bpld": "china",
              "perwt": 5020,
              "year": "1980"
             },
             {
              "agg educd": "Less than HS",
              "bpld": "china",
              "perwt": 14360,
              "year": "1980"
             },
             {
              "agg educd": "Some College",
              "bpld": "china",
              "perwt": 5300,
              "year": "1980"
             },
             {
              "agg educd": "BA or More",
              "bpld": "china",
              "perwt": 10068,
              "year": "1990"
             },
             {
              "agg educd": "HS",
              "bpld": "china",
              "perwt": 9390,
              "year": "1990"
             },
             {
              "agg educd": "Less than HS",
              "bpld": "china",
              "perwt": 16709,
              "year": "1990"
             },
             {
              "agg educd": "Some College",
              "bpld": "china",
              "perwt": 8252,
              "year": "1990"
             },
             {
              "agg educd": "BA or More",
              "bpld": "china",
              "perwt": 19902,
              "year": "2000"
             },
             {
              "agg educd": "HS",
              "bpld": "china",
              "perwt": 12657,
              "year": "2000"
             },
             {
              "agg educd": "Less than HS",
              "bpld": "china",
              "perwt": 8313,
              "year": "2000"
             },
             {
              "agg educd": "Some College",
              "bpld": "china",
              "perwt": 11268,
              "year": "2000"
             },
             {
              "agg educd": "BA or More",
              "bpld": "china",
              "perwt": 28258,
              "year": "2001"
             },
             {
              "agg educd": "HS",
              "bpld": "china",
              "perwt": 16946,
              "year": "2001"
             },
             {
              "agg educd": "Less than HS",
              "bpld": "china",
              "perwt": 7397,
              "year": "2001"
             },
             {
              "agg educd": "Some College",
              "bpld": "china",
              "perwt": 10739,
              "year": "2001"
             },
             {
              "agg educd": "BA or More",
              "bpld": "china",
              "perwt": 30729,
              "year": "2002"
             },
             {
              "agg educd": "HS",
              "bpld": "china",
              "perwt": 6650,
              "year": "2002"
             },
             {
              "agg educd": "Less than HS",
              "bpld": "china",
              "perwt": 12494,
              "year": "2002"
             },
             {
              "agg educd": "Some College",
              "bpld": "china",
              "perwt": 9972,
              "year": "2002"
             },
             {
              "agg educd": "BA or More",
              "bpld": "china",
              "perwt": 22316,
              "year": "2003"
             },
             {
              "agg educd": "HS",
              "bpld": "china",
              "perwt": 11710,
              "year": "2003"
             },
             {
              "agg educd": "Less than HS",
              "bpld": "china",
              "perwt": 10580,
              "year": "2003"
             },
             {
              "agg educd": "Some College",
              "bpld": "china",
              "perwt": 9136,
              "year": "2003"
             },
             {
              "agg educd": "BA or More",
              "bpld": "china",
              "perwt": 23559,
              "year": "2004"
             },
             {
              "agg educd": "HS",
              "bpld": "china",
              "perwt": 12194,
              "year": "2004"
             },
             {
              "agg educd": "Less than HS",
              "bpld": "china",
              "perwt": 11935,
              "year": "2004"
             },
             {
              "agg educd": "Some College",
              "bpld": "china",
              "perwt": 9584,
              "year": "2004"
             },
             {
              "agg educd": "BA or More",
              "bpld": "china",
              "perwt": 20127,
              "year": "2005"
             },
             {
              "agg educd": "HS",
              "bpld": "china",
              "perwt": 12269,
              "year": "2005"
             },
             {
              "agg educd": "Less than HS",
              "bpld": "china",
              "perwt": 7446,
              "year": "2005"
             },
             {
              "agg educd": "Some College",
              "bpld": "china",
              "perwt": 9053,
              "year": "2005"
             },
             {
              "agg educd": "BA or More",
              "bpld": "china",
              "perwt": 19553,
              "year": "2006"
             },
             {
              "agg educd": "HS",
              "bpld": "china",
              "perwt": 13759,
              "year": "2006"
             },
             {
              "agg educd": "Less than HS",
              "bpld": "china",
              "perwt": 11569,
              "year": "2006"
             },
             {
              "agg educd": "Some College",
              "bpld": "china",
              "perwt": 9558,
              "year": "2006"
             },
             {
              "agg educd": "BA or More",
              "bpld": "china",
              "perwt": 16031,
              "year": "2007"
             },
             {
              "agg educd": "HS",
              "bpld": "china",
              "perwt": 15531,
              "year": "2007"
             },
             {
              "agg educd": "Less than HS",
              "bpld": "china",
              "perwt": 11656,
              "year": "2007"
             },
             {
              "agg educd": "Some College",
              "bpld": "china",
              "perwt": 11911,
              "year": "2007"
             },
             {
              "agg educd": "BA or More",
              "bpld": "china",
              "perwt": 17619,
              "year": "2008"
             },
             {
              "agg educd": "HS",
              "bpld": "china",
              "perwt": 11490,
              "year": "2008"
             },
             {
              "agg educd": "Less than HS",
              "bpld": "china",
              "perwt": 8837,
              "year": "2008"
             },
             {
              "agg educd": "Some College",
              "bpld": "china",
              "perwt": 11775,
              "year": "2008"
             },
             {
              "agg educd": "BA or More",
              "bpld": "china",
              "perwt": 19776,
              "year": "2009"
             },
             {
              "agg educd": "HS",
              "bpld": "china",
              "perwt": 13967,
              "year": "2009"
             },
             {
              "agg educd": "Less than HS",
              "bpld": "china",
              "perwt": 10846,
              "year": "2009"
             },
             {
              "agg educd": "Some College",
              "bpld": "china",
              "perwt": 13981,
              "year": "2009"
             },
             {
              "agg educd": "BA or More",
              "bpld": "china",
              "perwt": 25700,
              "year": "2010"
             },
             {
              "agg educd": "HS",
              "bpld": "china",
              "perwt": 20437,
              "year": "2010"
             },
             {
              "agg educd": "Less than HS",
              "bpld": "china",
              "perwt": 17486,
              "year": "2010"
             },
             {
              "agg educd": "Some College",
              "bpld": "china",
              "perwt": 22326,
              "year": "2010"
             },
             {
              "agg educd": "BA or More",
              "bpld": "china",
              "perwt": 28308,
              "year": "2011"
             },
             {
              "agg educd": "HS",
              "bpld": "china",
              "perwt": 20489,
              "year": "2011"
             },
             {
              "agg educd": "Less than HS",
              "bpld": "china",
              "perwt": 12258,
              "year": "2011"
             },
             {
              "agg educd": "Some College",
              "bpld": "china",
              "perwt": 16624,
              "year": "2011"
             },
             {
              "agg educd": "BA or More",
              "bpld": "china",
              "perwt": 28366,
              "year": "2012"
             },
             {
              "agg educd": "HS",
              "bpld": "china",
              "perwt": 18965,
              "year": "2012"
             },
             {
              "agg educd": "Less than HS",
              "bpld": "china",
              "perwt": 11977,
              "year": "2012"
             },
             {
              "agg educd": "Some College",
              "bpld": "china",
              "perwt": 17867,
              "year": "2012"
             },
             {
              "agg educd": "BA or More",
              "bpld": "china",
              "perwt": 35423,
              "year": "2013"
             },
             {
              "agg educd": "HS",
              "bpld": "china",
              "perwt": 19437,
              "year": "2013"
             },
             {
              "agg educd": "Less than HS",
              "bpld": "china",
              "perwt": 13081,
              "year": "2013"
             },
             {
              "agg educd": "Some College",
              "bpld": "china",
              "perwt": 26703,
              "year": "2013"
             },
             {
              "agg educd": "BA or More",
              "bpld": "china",
              "perwt": 46857,
              "year": "2014"
             },
             {
              "agg educd": "HS",
              "bpld": "china",
              "perwt": 20847,
              "year": "2014"
             },
             {
              "agg educd": "Less than HS",
              "bpld": "china",
              "perwt": 14009,
              "year": "2014"
             },
             {
              "agg educd": "Some College",
              "bpld": "china",
              "perwt": 26350,
              "year": "2014"
             },
             {
              "agg educd": "BA or More",
              "bpld": "china",
              "perwt": 55237,
              "year": "2015"
             },
             {
              "agg educd": "HS",
              "bpld": "china",
              "perwt": 23565,
              "year": "2015"
             },
             {
              "agg educd": "Less than HS",
              "bpld": "china",
              "perwt": 17102,
              "year": "2015"
             },
             {
              "agg educd": "Some College",
              "bpld": "china",
              "perwt": 29093,
              "year": "2015"
             },
             {
              "agg educd": "BA or More",
              "bpld": "china",
              "perwt": 68932,
              "year": "2016"
             },
             {
              "agg educd": "HS",
              "bpld": "china",
              "perwt": 29213,
              "year": "2016"
             },
             {
              "agg educd": "Less than HS",
              "bpld": "china",
              "perwt": 15221,
              "year": "2016"
             },
             {
              "agg educd": "Some College",
              "bpld": "china",
              "perwt": 32769,
              "year": "2016"
             }
            ]
           },
           "encoding": {
            "color": {
             "field": "agg educd",
             "type": "nominal"
            },
            "x": {
             "field": "year",
             "scale": {
              "domain": {
               "selection": "selector010"
              }
             },
             "timeUnit": "year",
             "type": "temporal"
            },
            "y": {
             "field": "perwt",
             "type": "quantitative"
            }
           },
           "height": 60,
           "mark": "line",
           "selection": {
            "selector010": {
             "encodings": [
              "x"
             ],
             "mark": {
              "fill": "#333",
              "fillOpacity": 0.125,
              "stroke": "white"
             },
             "on": "[mousedown, window:mouseup] > window:mousemove!",
             "resolve": "global",
             "translate": "[mousedown, window:mouseup] > window:mousemove!",
             "type": "interval",
             "zoom": "wheel!"
            }
           },
           "title": "China",
           "width": 600
          }
         ]
        },
        {
         "vconcat": [
          {
           "data": {
            "values": [
             {
              "agg educd": "BA or More",
              "bpld": "mexico",
              "perwt": 4540,
              "year": "1980"
             },
             {
              "agg educd": "Less than HS",
              "bpld": "mexico",
              "perwt": 250240,
              "year": "1980"
             },
             {
              "agg educd": "Some College",
              "bpld": "mexico",
              "perwt": 16120,
              "year": "1980"
             },
             {
              "agg educd": "BA or More",
              "bpld": "mexico",
              "perwt": 16448,
              "year": "1990"
             },
             {
              "agg educd": "HS",
              "bpld": "mexico",
              "perwt": 75413,
              "year": "1990"
             },
             {
              "agg educd": "Less than HS",
              "bpld": "mexico",
              "perwt": 402072,
              "year": "1990"
             },
             {
              "agg educd": "Some College",
              "bpld": "mexico",
              "perwt": 43260,
              "year": "1990"
             },
             {
              "agg educd": "BA or More",
              "bpld": "mexico",
              "perwt": 20391,
              "year": "2000"
             },
             {
              "agg educd": "HS",
              "bpld": "mexico",
              "perwt": 113001,
              "year": "2000"
             },
             {
              "agg educd": "Less than HS",
              "bpld": "mexico",
              "perwt": 371206,
              "year": "2000"
             },
             {
              "agg educd": "Some College",
              "bpld": "mexico",
              "perwt": 39312,
              "year": "2000"
             },
             {
              "agg educd": "BA or More",
              "bpld": "mexico",
              "perwt": 22221,
              "year": "2001"
             },
             {
              "agg educd": "HS",
              "bpld": "mexico",
              "perwt": 106094,
              "year": "2001"
             },
             {
              "agg educd": "Less than HS",
              "bpld": "mexico",
              "perwt": 394885,
              "year": "2001"
             },
             {
              "agg educd": "Some College",
              "bpld": "mexico",
              "perwt": 54924,
              "year": "2001"
             },
             {
              "agg educd": "BA or More",
              "bpld": "mexico",
              "perwt": 26752,
              "year": "2002"
             },
             {
              "agg educd": "HS",
              "bpld": "mexico",
              "perwt": 117442,
              "year": "2002"
             },
             {
              "agg educd": "Less than HS",
              "bpld": "mexico",
              "perwt": 382529,
              "year": "2002"
             },
             {
              "agg educd": "Some College",
              "bpld": "mexico",
              "perwt": 37597,
              "year": "2002"
             },
             {
              "agg educd": "BA or More",
              "bpld": "mexico",
              "perwt": 23132,
              "year": "2003"
             },
             {
              "agg educd": "HS",
              "bpld": "mexico",
              "perwt": 125413,
              "year": "2003"
             },
             {
              "agg educd": "Less than HS",
              "bpld": "mexico",
              "perwt": 366258,
              "year": "2003"
             },
             {
              "agg educd": "Some College",
              "bpld": "mexico",
              "perwt": 40655,
              "year": "2003"
             },
             {
              "agg educd": "BA or More",
              "bpld": "mexico",
              "perwt": 27778,
              "year": "2004"
             },
             {
              "agg educd": "HS",
              "bpld": "mexico",
              "perwt": 113225,
              "year": "2004"
             },
             {
              "agg educd": "Less than HS",
              "bpld": "mexico",
              "perwt": 366263,
              "year": "2004"
             },
             {
              "agg educd": "Some College",
              "bpld": "mexico",
              "perwt": 38201,
              "year": "2004"
             },
             {
              "agg educd": "BA or More",
              "bpld": "mexico",
              "perwt": 23873,
              "year": "2005"
             },
             {
              "agg educd": "HS",
              "bpld": "mexico",
              "perwt": 126055,
              "year": "2005"
             },
             {
              "agg educd": "Less than HS",
              "bpld": "mexico",
              "perwt": 352402,
              "year": "2005"
             },
             {
              "agg educd": "Some College",
              "bpld": "mexico",
              "perwt": 42973,
              "year": "2005"
             },
             {
              "agg educd": "BA or More",
              "bpld": "mexico",
              "perwt": 24996,
              "year": "2006"
             },
             {
              "agg educd": "HS",
              "bpld": "mexico",
              "perwt": 135429,
              "year": "2006"
             },
             {
              "agg educd": "Less than HS",
              "bpld": "mexico",
              "perwt": 299021,
              "year": "2006"
             },
             {
              "agg educd": "Some College",
              "bpld": "mexico",
              "perwt": 40584,
              "year": "2006"
             },
             {
              "agg educd": "BA or More",
              "bpld": "mexico",
              "perwt": 21177,
              "year": "2007"
             },
             {
              "agg educd": "HS",
              "bpld": "mexico",
              "perwt": 139503,
              "year": "2007"
             },
             {
              "agg educd": "Less than HS",
              "bpld": "mexico",
              "perwt": 299421,
              "year": "2007"
             },
             {
              "agg educd": "Some College",
              "bpld": "mexico",
              "perwt": 39349,
              "year": "2007"
             },
             {
              "agg educd": "BA or More",
              "bpld": "mexico",
              "perwt": 20492,
              "year": "2008"
             },
             {
              "agg educd": "HS",
              "bpld": "mexico",
              "perwt": 98406,
              "year": "2008"
             },
             {
              "agg educd": "Less than HS",
              "bpld": "mexico",
              "perwt": 277291,
              "year": "2008"
             },
             {
              "agg educd": "Some College",
              "bpld": "mexico",
              "perwt": 35422,
              "year": "2008"
             },
             {
              "agg educd": "BA or More",
              "bpld": "mexico",
              "perwt": 17520,
              "year": "2009"
             },
             {
              "agg educd": "HS",
              "bpld": "mexico",
              "perwt": 86577,
              "year": "2009"
             },
             {
              "agg educd": "Less than HS",
              "bpld": "mexico",
              "perwt": 230500,
              "year": "2009"
             },
             {
              "agg educd": "Some College",
              "bpld": "mexico",
              "perwt": 34788,
              "year": "2009"
             },
             {
              "agg educd": "BA or More",
              "bpld": "mexico",
              "perwt": 21986,
              "year": "2010"
             },
             {
              "agg educd": "HS",
              "bpld": "mexico",
              "perwt": 84333,
              "year": "2010"
             },
             {
              "agg educd": "Less than HS",
              "bpld": "mexico",
              "perwt": 191215,
              "year": "2010"
             },
             {
              "agg educd": "Some College",
              "bpld": "mexico",
              "perwt": 33013,
              "year": "2010"
             },
             {
              "agg educd": "BA or More",
              "bpld": "mexico",
              "perwt": 15533,
              "year": "2011"
             },
             {
              "agg educd": "HS",
              "bpld": "mexico",
              "perwt": 64123,
              "year": "2011"
             },
             {
              "agg educd": "Less than HS",
              "bpld": "mexico",
              "perwt": 141071,
              "year": "2011"
             },
             {
              "agg educd": "Some College",
              "bpld": "mexico",
              "perwt": 21715,
              "year": "2011"
             },
             {
              "agg educd": "BA or More",
              "bpld": "mexico",
              "perwt": 13145,
              "year": "2012"
             },
             {
              "agg educd": "HS",
              "bpld": "mexico",
              "perwt": 49344,
              "year": "2012"
             },
             {
              "agg educd": "Less than HS",
              "bpld": "mexico",
              "perwt": 104586,
              "year": "2012"
             },
             {
              "agg educd": "Some College",
              "bpld": "mexico",
              "perwt": 21071,
              "year": "2012"
             },
             {
              "agg educd": "BA or More",
              "bpld": "mexico",
              "perwt": 13126,
              "year": "2013"
             },
             {
              "agg educd": "HS",
              "bpld": "mexico",
              "perwt": 42958,
              "year": "2013"
             },
             {
              "agg educd": "Less than HS",
              "bpld": "mexico",
              "perwt": 92489,
              "year": "2013"
             },
             {
              "agg educd": "Some College",
              "bpld": "mexico",
              "perwt": 18017,
              "year": "2013"
             },
             {
              "agg educd": "BA or More",
              "bpld": "mexico",
              "perwt": 12239,
              "year": "2014"
             },
             {
              "agg educd": "HS",
              "bpld": "mexico",
              "perwt": 34390,
              "year": "2014"
             },
             {
              "agg educd": "Less than HS",
              "bpld": "mexico",
              "perwt": 74529,
              "year": "2014"
             },
             {
              "agg educd": "Some College",
              "bpld": "mexico",
              "perwt": 19460,
              "year": "2014"
             },
             {
              "agg educd": "BA or More",
              "bpld": "mexico",
              "perwt": 15373,
              "year": "2015"
             },
             {
              "agg educd": "HS",
              "bpld": "mexico",
              "perwt": 36846,
              "year": "2015"
             },
             {
              "agg educd": "Less than HS",
              "bpld": "mexico",
              "perwt": 71080,
              "year": "2015"
             },
             {
              "agg educd": "Some College",
              "bpld": "mexico",
              "perwt": 21008,
              "year": "2015"
             },
             {
              "agg educd": "BA or More",
              "bpld": "mexico",
              "perwt": 16786,
              "year": "2016"
             },
             {
              "agg educd": "HS",
              "bpld": "mexico",
              "perwt": 38645,
              "year": "2016"
             },
             {
              "agg educd": "Less than HS",
              "bpld": "mexico",
              "perwt": 65038,
              "year": "2016"
             },
             {
              "agg educd": "Some College",
              "bpld": "mexico",
              "perwt": 25198,
              "year": "2016"
             }
            ]
           },
           "encoding": {
            "color": {
             "field": "agg educd",
             "type": "nominal"
            },
            "x": {
             "field": "year",
             "scale": {
              "domain": {
               "selection": "selector010"
              }
             },
             "timeUnit": "year",
             "type": "temporal"
            },
            "y": {
             "field": "perwt",
             "type": "quantitative"
            }
           },
           "height": 400,
           "mark": "line",
           "title": "México",
           "width": 600
          },
          {
           "data": {
            "values": [
             {
              "agg educd": "BA or More",
              "bpld": "mexico",
              "perwt": 4540,
              "year": "1980"
             },
             {
              "agg educd": "Less than HS",
              "bpld": "mexico",
              "perwt": 250240,
              "year": "1980"
             },
             {
              "agg educd": "Some College",
              "bpld": "mexico",
              "perwt": 16120,
              "year": "1980"
             },
             {
              "agg educd": "BA or More",
              "bpld": "mexico",
              "perwt": 16448,
              "year": "1990"
             },
             {
              "agg educd": "HS",
              "bpld": "mexico",
              "perwt": 75413,
              "year": "1990"
             },
             {
              "agg educd": "Less than HS",
              "bpld": "mexico",
              "perwt": 402072,
              "year": "1990"
             },
             {
              "agg educd": "Some College",
              "bpld": "mexico",
              "perwt": 43260,
              "year": "1990"
             },
             {
              "agg educd": "BA or More",
              "bpld": "mexico",
              "perwt": 20391,
              "year": "2000"
             },
             {
              "agg educd": "HS",
              "bpld": "mexico",
              "perwt": 113001,
              "year": "2000"
             },
             {
              "agg educd": "Less than HS",
              "bpld": "mexico",
              "perwt": 371206,
              "year": "2000"
             },
             {
              "agg educd": "Some College",
              "bpld": "mexico",
              "perwt": 39312,
              "year": "2000"
             },
             {
              "agg educd": "BA or More",
              "bpld": "mexico",
              "perwt": 22221,
              "year": "2001"
             },
             {
              "agg educd": "HS",
              "bpld": "mexico",
              "perwt": 106094,
              "year": "2001"
             },
             {
              "agg educd": "Less than HS",
              "bpld": "mexico",
              "perwt": 394885,
              "year": "2001"
             },
             {
              "agg educd": "Some College",
              "bpld": "mexico",
              "perwt": 54924,
              "year": "2001"
             },
             {
              "agg educd": "BA or More",
              "bpld": "mexico",
              "perwt": 26752,
              "year": "2002"
             },
             {
              "agg educd": "HS",
              "bpld": "mexico",
              "perwt": 117442,
              "year": "2002"
             },
             {
              "agg educd": "Less than HS",
              "bpld": "mexico",
              "perwt": 382529,
              "year": "2002"
             },
             {
              "agg educd": "Some College",
              "bpld": "mexico",
              "perwt": 37597,
              "year": "2002"
             },
             {
              "agg educd": "BA or More",
              "bpld": "mexico",
              "perwt": 23132,
              "year": "2003"
             },
             {
              "agg educd": "HS",
              "bpld": "mexico",
              "perwt": 125413,
              "year": "2003"
             },
             {
              "agg educd": "Less than HS",
              "bpld": "mexico",
              "perwt": 366258,
              "year": "2003"
             },
             {
              "agg educd": "Some College",
              "bpld": "mexico",
              "perwt": 40655,
              "year": "2003"
             },
             {
              "agg educd": "BA or More",
              "bpld": "mexico",
              "perwt": 27778,
              "year": "2004"
             },
             {
              "agg educd": "HS",
              "bpld": "mexico",
              "perwt": 113225,
              "year": "2004"
             },
             {
              "agg educd": "Less than HS",
              "bpld": "mexico",
              "perwt": 366263,
              "year": "2004"
             },
             {
              "agg educd": "Some College",
              "bpld": "mexico",
              "perwt": 38201,
              "year": "2004"
             },
             {
              "agg educd": "BA or More",
              "bpld": "mexico",
              "perwt": 23873,
              "year": "2005"
             },
             {
              "agg educd": "HS",
              "bpld": "mexico",
              "perwt": 126055,
              "year": "2005"
             },
             {
              "agg educd": "Less than HS",
              "bpld": "mexico",
              "perwt": 352402,
              "year": "2005"
             },
             {
              "agg educd": "Some College",
              "bpld": "mexico",
              "perwt": 42973,
              "year": "2005"
             },
             {
              "agg educd": "BA or More",
              "bpld": "mexico",
              "perwt": 24996,
              "year": "2006"
             },
             {
              "agg educd": "HS",
              "bpld": "mexico",
              "perwt": 135429,
              "year": "2006"
             },
             {
              "agg educd": "Less than HS",
              "bpld": "mexico",
              "perwt": 299021,
              "year": "2006"
             },
             {
              "agg educd": "Some College",
              "bpld": "mexico",
              "perwt": 40584,
              "year": "2006"
             },
             {
              "agg educd": "BA or More",
              "bpld": "mexico",
              "perwt": 21177,
              "year": "2007"
             },
             {
              "agg educd": "HS",
              "bpld": "mexico",
              "perwt": 139503,
              "year": "2007"
             },
             {
              "agg educd": "Less than HS",
              "bpld": "mexico",
              "perwt": 299421,
              "year": "2007"
             },
             {
              "agg educd": "Some College",
              "bpld": "mexico",
              "perwt": 39349,
              "year": "2007"
             },
             {
              "agg educd": "BA or More",
              "bpld": "mexico",
              "perwt": 20492,
              "year": "2008"
             },
             {
              "agg educd": "HS",
              "bpld": "mexico",
              "perwt": 98406,
              "year": "2008"
             },
             {
              "agg educd": "Less than HS",
              "bpld": "mexico",
              "perwt": 277291,
              "year": "2008"
             },
             {
              "agg educd": "Some College",
              "bpld": "mexico",
              "perwt": 35422,
              "year": "2008"
             },
             {
              "agg educd": "BA or More",
              "bpld": "mexico",
              "perwt": 17520,
              "year": "2009"
             },
             {
              "agg educd": "HS",
              "bpld": "mexico",
              "perwt": 86577,
              "year": "2009"
             },
             {
              "agg educd": "Less than HS",
              "bpld": "mexico",
              "perwt": 230500,
              "year": "2009"
             },
             {
              "agg educd": "Some College",
              "bpld": "mexico",
              "perwt": 34788,
              "year": "2009"
             },
             {
              "agg educd": "BA or More",
              "bpld": "mexico",
              "perwt": 21986,
              "year": "2010"
             },
             {
              "agg educd": "HS",
              "bpld": "mexico",
              "perwt": 84333,
              "year": "2010"
             },
             {
              "agg educd": "Less than HS",
              "bpld": "mexico",
              "perwt": 191215,
              "year": "2010"
             },
             {
              "agg educd": "Some College",
              "bpld": "mexico",
              "perwt": 33013,
              "year": "2010"
             },
             {
              "agg educd": "BA or More",
              "bpld": "mexico",
              "perwt": 15533,
              "year": "2011"
             },
             {
              "agg educd": "HS",
              "bpld": "mexico",
              "perwt": 64123,
              "year": "2011"
             },
             {
              "agg educd": "Less than HS",
              "bpld": "mexico",
              "perwt": 141071,
              "year": "2011"
             },
             {
              "agg educd": "Some College",
              "bpld": "mexico",
              "perwt": 21715,
              "year": "2011"
             },
             {
              "agg educd": "BA or More",
              "bpld": "mexico",
              "perwt": 13145,
              "year": "2012"
             },
             {
              "agg educd": "HS",
              "bpld": "mexico",
              "perwt": 49344,
              "year": "2012"
             },
             {
              "agg educd": "Less than HS",
              "bpld": "mexico",
              "perwt": 104586,
              "year": "2012"
             },
             {
              "agg educd": "Some College",
              "bpld": "mexico",
              "perwt": 21071,
              "year": "2012"
             },
             {
              "agg educd": "BA or More",
              "bpld": "mexico",
              "perwt": 13126,
              "year": "2013"
             },
             {
              "agg educd": "HS",
              "bpld": "mexico",
              "perwt": 42958,
              "year": "2013"
             },
             {
              "agg educd": "Less than HS",
              "bpld": "mexico",
              "perwt": 92489,
              "year": "2013"
             },
             {
              "agg educd": "Some College",
              "bpld": "mexico",
              "perwt": 18017,
              "year": "2013"
             },
             {
              "agg educd": "BA or More",
              "bpld": "mexico",
              "perwt": 12239,
              "year": "2014"
             },
             {
              "agg educd": "HS",
              "bpld": "mexico",
              "perwt": 34390,
              "year": "2014"
             },
             {
              "agg educd": "Less than HS",
              "bpld": "mexico",
              "perwt": 74529,
              "year": "2014"
             },
             {
              "agg educd": "Some College",
              "bpld": "mexico",
              "perwt": 19460,
              "year": "2014"
             },
             {
              "agg educd": "BA or More",
              "bpld": "mexico",
              "perwt": 15373,
              "year": "2015"
             },
             {
              "agg educd": "HS",
              "bpld": "mexico",
              "perwt": 36846,
              "year": "2015"
             },
             {
              "agg educd": "Less than HS",
              "bpld": "mexico",
              "perwt": 71080,
              "year": "2015"
             },
             {
              "agg educd": "Some College",
              "bpld": "mexico",
              "perwt": 21008,
              "year": "2015"
             },
             {
              "agg educd": "BA or More",
              "bpld": "mexico",
              "perwt": 16786,
              "year": "2016"
             },
             {
              "agg educd": "HS",
              "bpld": "mexico",
              "perwt": 38645,
              "year": "2016"
             },
             {
              "agg educd": "Less than HS",
              "bpld": "mexico",
              "perwt": 65038,
              "year": "2016"
             },
             {
              "agg educd": "Some College",
              "bpld": "mexico",
              "perwt": 25198,
              "year": "2016"
             }
            ]
           },
           "encoding": {
            "color": {
             "field": "agg educd",
             "type": "nominal"
            },
            "x": {
             "field": "year",
             "scale": {
              "domain": {
               "selection": "selector010"
              }
             },
             "timeUnit": "year",
             "type": "temporal"
            },
            "y": {
             "field": "perwt",
             "type": "quantitative"
            }
           },
           "height": 60,
           "mark": "line",
           "selection": {
            "selector010": {
             "encodings": [
              "x"
             ],
             "mark": {
              "fill": "#333",
              "fillOpacity": 0.125,
              "stroke": "white"
             },
             "on": "[mousedown, window:mouseup] > window:mousemove!",
             "resolve": "global",
             "translate": "[mousedown, window:mouseup] > window:mousemove!",
             "type": "interval",
             "zoom": "wheel!"
            }
           },
           "title": "México",
           "width": 600
          }
         ]
        }
       ]
      },
      "text/plain": [
       "<VegaLite 2 object>"
      ]
     },
     "execution_count": 102,
     "metadata": {},
     "output_type": "execute_result"
    }
   ],
   "source": [
    "data = immig_educ.reset_index()\n",
    "#data = data[data['bpld'] == 'china']\n",
    "\n",
    "brush = alt.selection(type='interval', encodings=['x'])\n",
    "\n",
    "upper1 = alt.Chart(data[data['bpld'] == 'china']).mark_line().encode(\n",
    "    x = alt.X('year:T', timeUnit='year', scale={'domain': brush.ref()}),\n",
    "    y = 'perwt',\n",
    "    color = 'agg educd',\n",
    ").properties(\n",
    "    title = 'China',\n",
    "    width = 600,\n",
    "    height = 400,\n",
    ")\n",
    "\n",
    "lower1 = upper1.properties(\n",
    "    selection=brush,\n",
    "    height=60\n",
    ")\n",
    "\n",
    "\n",
    "upper2 = alt.Chart(data[data['bpld'] == 'mexico']).mark_line().encode(\n",
    "    x = alt.X('year:T', timeUnit='year', scale={'domain': brush.ref()}),\n",
    "    y = 'perwt',\n",
    "    color = 'agg educd',\n",
    ").properties(\n",
    "    title = u'México',\n",
    "    width = 600,\n",
    "    height = 400,\n",
    ")\n",
    "\n",
    "lower2 = upper2.properties(\n",
    "    selection=brush,\n",
    "    height=60\n",
    ")\n",
    "\n",
    "\n",
    "\n",
    "# chart2 = alt.Chart(data[data['bpld'] == 'mexico']).mark_line().encode(\n",
    "#     alt.X('year:T', timeUnit='year'),\n",
    "#     y = 'perwt',\n",
    "#     color = 'agg educd',\n",
    "# ).properties(\n",
    "#     width = 600,\n",
    "#     height = 400,\n",
    "# )\n",
    "\n",
    "alt.hconcat(alt.vconcat(upper1, lower1), alt.vconcat(upper2, lower2))"
   ]
  },
  {
   "cell_type": "code",
   "execution_count": 115,
   "metadata": {},
   "outputs": [],
   "source": [
    "immig_educ = df.groupby(['year', 'bpld', 'agg educd',])['perwt'].sum().to_frame()\n",
    "data = immig_educ.reset_index()\n",
    "def make_altair_chart(country):\n",
    "    brush = alt.selection(type='interval', encodings=['x'])\n",
    "\n",
    "    upper1 = alt.Chart(data[data['bpld'] == country]).mark_line().encode(\n",
    "        x = alt.X('year:T', timeUnit='year', scale={'domain': brush.ref()}),\n",
    "        y = 'perwt:Q',\n",
    "        color = 'agg educd',\n",
    "        order = alt.Order('agg educd:O'),\n",
    "    ).properties(\n",
    "        title = f'{country}'.capitalize(),\n",
    "        width = 600,\n",
    "        height = 400,\n",
    "    )\n",
    "\n",
    "    lower1 = upper1.properties(\n",
    "        selection=brush,\n",
    "        height=60\n",
    "    )\n",
    "    chart = alt.vconcat(upper1, lower1)\n",
    "    return chart"
   ]
  },
  {
   "cell_type": "code",
   "execution_count": 125,
   "metadata": {},
   "outputs": [
    {
     "data": {
      "application/vnd.jupyter.widget-view+json": {
       "model_id": "3ccea089eac44b039fe0bfc373712456",
       "version_major": 2,
       "version_minor": 0
      },
      "text/plain": [
       "interactive(children=(Dropdown(description='country', options=('canada', 'st. pierre and miquelon', 'bermuda',…"
      ]
     },
     "metadata": {},
     "output_type": "display_data"
    },
    {
     "data": {
      "text/plain": [
       "<function __main__.make_altair_chart>"
      ]
     },
     "execution_count": 125,
     "metadata": {},
     "output_type": "execute_result"
    }
   ],
   "source": [
    "interact(make_altair_chart, country = data['bpld'].unique())"
   ]
  },
  {
   "cell_type": "code",
   "execution_count": null,
   "metadata": {},
   "outputs": [],
   "source": []
  },
  {
   "cell_type": "code",
   "execution_count": null,
   "metadata": {},
   "outputs": [],
   "source": []
  }
 ],
 "metadata": {
  "kernelspec": {
   "display_name": "Python 3",
   "language": "python",
   "name": "python3"
  },
  "language_info": {
   "codemirror_mode": {
    "name": "ipython",
    "version": 3
   },
   "file_extension": ".py",
   "mimetype": "text/x-python",
   "name": "python",
   "nbconvert_exporter": "python",
   "pygments_lexer": "ipython3",
   "version": "3.6.3"
  }
 },
 "nbformat": 4,
 "nbformat_minor": 2
}
